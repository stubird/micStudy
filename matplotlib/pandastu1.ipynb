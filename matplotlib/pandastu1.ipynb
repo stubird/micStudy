{
 "cells": [
  {
   "cell_type": "code",
   "execution_count": 2,
   "metadata": {},
   "outputs": [
    {
     "name": "stdout",
     "output_type": "stream",
     "text": [
      "4    1\n",
      "3    2\n",
      "2    3\n",
      "1    4\n",
      "dtype: int64\n"
     ]
    }
   ],
   "source": [
    "import pandas as pd\n",
    "import numpy as np\n",
    "import matplotlib \n",
    "from matplotlib import pyplot\n",
    "\n",
    "s = pd.Series([1,2,3,4],index=[4,3,2,1])\n",
    "print(s)"
   ]
  },
  {
   "cell_type": "code",
   "execution_count": 3,
   "metadata": {},
   "outputs": [
    {
     "name": "stdout",
     "output_type": "stream",
     "text": [
      "4     3\n",
      "3     6\n",
      "2     9\n",
      "1    12\n",
      "dtype: int64\n"
     ]
    }
   ],
   "source": [
    "print(s*3)"
   ]
  },
  {
   "cell_type": "code",
   "execution_count": 4,
   "metadata": {},
   "outputs": [
    {
     "name": "stdout",
     "output_type": "stream",
     "text": [
      "1    12\n",
      "2    10\n",
      "3     8\n",
      "4     6\n",
      "dtype: int64\n"
     ]
    }
   ],
   "source": [
    "b = pd.Series([6,5,7,8],index=[3,4,2,1])\n",
    "print(s + b)"
   ]
  },
  {
   "cell_type": "code",
   "execution_count": 5,
   "metadata": {},
   "outputs": [
    {
     "name": "stdout",
     "output_type": "stream",
     "text": [
      " 1.0     NaN\n",
      " 2.0    10.0\n",
      " 2.0    11.0\n",
      " 3.0     8.0\n",
      " 4.0     6.0\n",
      "NaN     14.0\n",
      "dtype: float64\n",
      " 4.0    NaN\n",
      " 3.0    NaN\n",
      " 2.0    1.0\n",
      " 2.0    2.0\n",
      "NaN     3.0\n",
      "dtype: float64\n"
     ]
    },
    {
     "data": {
      "text/plain": [
       " 4.0    1\n",
       " 3.0    2\n",
       " 2.0    3\n",
       " 2.0    4\n",
       "NaN     5\n",
       "dtype: int64"
      ]
     },
     "execution_count": 5,
     "metadata": {},
     "output_type": "execute_result"
    }
   ],
   "source": [
    "s = pd.Series([1,2,3,4,5],index=[4,3,2,2,np.nan])\n",
    "b = pd.Series([6,5,7,8,9],index=[3,4,2,1,np.nan])\n",
    "print(b + s)\n",
    "print(s.shift(2)) #shitf是往下移动的意思\n",
    "s"
   ]
  },
  {
   "cell_type": "code",
   "execution_count": 6,
   "metadata": {},
   "outputs": [
    {
     "name": "stdout",
     "output_type": "stream",
     "text": [
      "                   A         B         d         D\n",
      "2015-02-01 -0.255441 -0.835549  1.050755  1.546383\n",
      "2015-02-02 -0.910361  0.526879  1.342017  0.676893\n",
      "2015-02-03 -0.257663  1.087580  1.290506 -0.254019\n",
      "2015-02-04 -0.475162  0.161931 -0.716137 -0.072519\n",
      "2015-02-05 -0.069262  1.062017 -0.196391  2.505547\n",
      "2015-02-06  0.515659  0.618523  2.068544 -0.298123\n",
      "                   A         B         d         D\n",
      "2015-02-01 -0.255441 -0.835549  1.050755  1.546383\n",
      " \n",
      "2015-02-01   -0.255441\n",
      "2015-02-02   -0.910361\n",
      "2015-02-03   -0.257663\n",
      "2015-02-04   -0.475162\n",
      "2015-02-05   -0.069262\n",
      "2015-02-06    0.515659\n",
      "Freq: D, Name: A, dtype: float64\n",
      "A   -0.910361\n",
      "B    0.526879\n",
      "Name: 2015-02-02 00:00:00, dtype: float64\n",
      "                   A         B\n",
      "2015-02-01 -0.255441 -0.835549\n",
      "2015-02-02 -0.910361  0.526879\n"
     ]
    }
   ],
   "source": [
    "a = pd.Series([2,3,4])\n",
    "a = pd.Series([[1,3],[3,4],[3,4],[4,6]],index=[np.nan,'d','b',np.nan])\n",
    "b = pd.Series([2,6,5,6],index=[np.nan,np.nan,'d','b'])\n",
    "dates = pd.date_range('20150201', periods=6)\n",
    "df = pd.DataFrame(np.random.randn(6,4), index=dates, columns=list('ABdD'))\n",
    "print(df)\n",
    "print(df[0:1])\n",
    "print(' ')\n",
    "print(df['A'])\n",
    "print(df.loc[pd.Timestamp('20150202'),'A':'B'])\n",
    "print(df.iloc[0:2,0:2])\n"
   ]
  },
  {
   "cell_type": "code",
   "execution_count": 7,
   "metadata": {},
   "outputs": [
    {
     "name": "stdout",
     "output_type": "stream",
     "text": [
      "                   A         B\n",
      "2015-02-01  0.000000 -0.835549\n",
      "2015-02-02 -0.910361  0.000000\n"
     ]
    }
   ],
   "source": [
    "df.at[dates[0],'A'] = 0\n",
    "df.iat[1,1] = 0\n",
    "print(df.iloc[0:2,0:2])"
   ]
  },
  {
   "cell_type": "code",
   "execution_count": 8,
   "metadata": {},
   "outputs": [
    {
     "name": "stdout",
     "output_type": "stream",
     "text": [
      "     A          B    C  D      E    F\n",
      "0  1.0 2013-01-02  1.0  3   test  foo\n",
      "1  1.0 2013-01-02  1.0  3  train  foo\n",
      "2  1.0 2013-01-02  1.0  3   test  foo\n",
      "3  1.0 2013-01-02  1.0  3  train  foo\n"
     ]
    }
   ],
   "source": [
    "df2 = pd.DataFrame({ 'A' : 1.,\n",
    "                     'B' : pd.Timestamp('20130102'),\n",
    "                     'C' : pd.Series(1,index=list(range(4)),dtype='float32'),\n",
    "                     'D' : np.array([3] * 4,dtype='int32'),\n",
    "                     'E' : pd.Categorical([\"test\",\"train\",\"test\",\"train\"]),\n",
    "                     'F' : 'foo' })\n",
    "print(df2)"
   ]
  },
  {
   "cell_type": "code",
   "execution_count": 9,
   "metadata": {},
   "outputs": [
    {
     "data": {
      "text/html": [
       "<div>\n",
       "<style scoped>\n",
       "    .dataframe tbody tr th:only-of-type {\n",
       "        vertical-align: middle;\n",
       "    }\n",
       "\n",
       "    .dataframe tbody tr th {\n",
       "        vertical-align: top;\n",
       "    }\n",
       "\n",
       "    .dataframe thead th {\n",
       "        text-align: right;\n",
       "    }\n",
       "</style>\n",
       "<table border=\"1\" class=\"dataframe\">\n",
       "  <thead>\n",
       "    <tr style=\"text-align: right;\">\n",
       "      <th></th>\n",
       "      <th>A</th>\n",
       "      <th>B</th>\n",
       "      <th>C</th>\n",
       "      <th>D</th>\n",
       "      <th>E</th>\n",
       "      <th>F</th>\n",
       "    </tr>\n",
       "  </thead>\n",
       "  <tbody>\n",
       "    <tr>\n",
       "      <th>0</th>\n",
       "      <td>1.0</td>\n",
       "      <td>2013-01-02</td>\n",
       "      <td>1.0</td>\n",
       "      <td>3</td>\n",
       "      <td>test</td>\n",
       "      <td>foo</td>\n",
       "    </tr>\n",
       "    <tr>\n",
       "      <th>1</th>\n",
       "      <td>1.0</td>\n",
       "      <td>2013-01-02</td>\n",
       "      <td>1.0</td>\n",
       "      <td>3</td>\n",
       "      <td>train</td>\n",
       "      <td>foo</td>\n",
       "    </tr>\n",
       "    <tr>\n",
       "      <th>2</th>\n",
       "      <td>1.0</td>\n",
       "      <td>2013-01-02</td>\n",
       "      <td>1.0</td>\n",
       "      <td>3</td>\n",
       "      <td>test</td>\n",
       "      <td>foo</td>\n",
       "    </tr>\n",
       "    <tr>\n",
       "      <th>3</th>\n",
       "      <td>1.0</td>\n",
       "      <td>2013-01-02</td>\n",
       "      <td>1.0</td>\n",
       "      <td>3</td>\n",
       "      <td>train</td>\n",
       "      <td>foo</td>\n",
       "    </tr>\n",
       "  </tbody>\n",
       "</table>\n",
       "</div>"
      ],
      "text/plain": [
       "     A          B    C  D      E    F\n",
       "0  1.0 2013-01-02  1.0  3   test  foo\n",
       "1  1.0 2013-01-02  1.0  3  train  foo\n",
       "2  1.0 2013-01-02  1.0  3   test  foo\n",
       "3  1.0 2013-01-02  1.0  3  train  foo"
      ]
     },
     "execution_count": 9,
     "metadata": {},
     "output_type": "execute_result"
    }
   ],
   "source": [
    "df2[df2['E'].isin(['test'])]\n",
    "df2[df2['D'] > 2]"
   ]
  },
  {
   "cell_type": "code",
   "execution_count": 10,
   "metadata": {},
   "outputs": [
    {
     "name": "stdout",
     "output_type": "stream",
     "text": [
      "A   -0.199465\n",
      "B    0.349084\n",
      "d    0.806549\n",
      "D    0.684027\n",
      "dtype: float64\n",
      "                   A         B         d         D\n",
      "2015-02-01  0.000000 -0.835549  1.050755  1.546383\n",
      "2015-02-02 -0.910361  0.000000  1.342017  0.676893\n",
      "2015-02-03 -0.257663  1.087580  1.290506 -0.254019\n",
      "2015-02-04 -0.475162  0.161931 -0.716137 -0.072519\n",
      "2015-02-05 -0.069262  1.062017 -0.196391  2.505547\n",
      "2015-02-06  0.515659  0.618523  2.068544 -0.298123\n",
      "                   A         B         d         D\n",
      "2015-02-01 -2.000000 -2.835549 -0.949245 -0.453617\n",
      "2015-02-02 -2.910361 -2.000000 -0.657983 -1.323107\n",
      "2015-02-03 -2.257663 -0.912420 -0.709494 -2.254019\n",
      "2015-02-04 -2.475162 -1.838069 -2.716137 -2.072519\n",
      "2015-02-05 -2.069262 -0.937983 -2.196391  0.505547\n",
      "2015-02-06 -1.484341 -1.381477  0.068544 -2.298123\n",
      "                   A         B         d         D\n",
      "2015-02-01 -4.000000 -4.835549 -2.949245 -2.453617\n",
      "2015-02-02 -5.910361 -5.000000 -3.657983 -4.323107\n",
      "2015-02-03 -6.257663 -4.912420 -4.709494 -6.254019\n",
      "2015-02-04 -7.475162 -6.838069 -7.716137 -7.072519\n",
      "2015-02-05       NaN       NaN       NaN       NaN\n",
      "2015-02-06       NaN       NaN       NaN       NaN\n"
     ]
    }
   ],
   "source": [
    "print(df.mean())\n",
    "s = pd.Series([2,3,4,5,6,7],index=dates).shift(-2)\n",
    "print(df)\n",
    "print(df.sub(2))\n",
    "print(df.sub(s,axis='index'))"
   ]
  },
  {
   "cell_type": "code",
   "execution_count": null,
   "metadata": {},
   "outputs": [],
   "source": []
  },
  {
   "cell_type": "code",
   "execution_count": null,
   "metadata": {},
   "outputs": [],
   "source": []
  }
 ],
 "metadata": {
  "kernelspec": {
   "display_name": "Python 3",
   "language": "python",
   "name": "python3"
  },
  "language_info": {
   "codemirror_mode": {
    "name": "ipython",
    "version": 3
   },
   "file_extension": ".py",
   "mimetype": "text/x-python",
   "name": "python",
   "nbconvert_exporter": "python",
   "pygments_lexer": "ipython3",
   "version": "3.6.3"
  }
 },
 "nbformat": 4,
 "nbformat_minor": 1
}

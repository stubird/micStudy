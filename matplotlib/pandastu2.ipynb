{
 "cells": [
  {
   "cell_type": "code",
   "execution_count": 24,
   "metadata": {},
   "outputs": [
    {
     "data": {
      "text/html": [
       "<div>\n",
       "<style scoped>\n",
       "    .dataframe tbody tr th:only-of-type {\n",
       "        vertical-align: middle;\n",
       "    }\n",
       "\n",
       "    .dataframe tbody tr th {\n",
       "        vertical-align: top;\n",
       "    }\n",
       "\n",
       "    .dataframe thead th {\n",
       "        text-align: right;\n",
       "    }\n",
       "</style>\n",
       "<table border=\"1\" class=\"dataframe\">\n",
       "  <thead>\n",
       "    <tr style=\"text-align: right;\">\n",
       "      <th></th>\n",
       "      <th>A</th>\n",
       "      <th>B</th>\n",
       "      <th>C</th>\n",
       "      <th>D</th>\n",
       "    </tr>\n",
       "  </thead>\n",
       "  <tbody>\n",
       "    <tr>\n",
       "      <th>2015-02-01</th>\n",
       "      <td>1.764052</td>\n",
       "      <td>0.400157</td>\n",
       "      <td>0.978738</td>\n",
       "      <td>2.240893</td>\n",
       "    </tr>\n",
       "    <tr>\n",
       "      <th>2015-02-02</th>\n",
       "      <td>1.867558</td>\n",
       "      <td>-0.977278</td>\n",
       "      <td>0.950088</td>\n",
       "      <td>-0.151357</td>\n",
       "    </tr>\n",
       "    <tr>\n",
       "      <th>2015-02-03</th>\n",
       "      <td>-0.103219</td>\n",
       "      <td>0.410599</td>\n",
       "      <td>0.144044</td>\n",
       "      <td>1.454274</td>\n",
       "    </tr>\n",
       "    <tr>\n",
       "      <th>2015-02-04</th>\n",
       "      <td>0.761038</td>\n",
       "      <td>0.121675</td>\n",
       "      <td>0.443863</td>\n",
       "      <td>0.333674</td>\n",
       "    </tr>\n",
       "    <tr>\n",
       "      <th>2015-02-05</th>\n",
       "      <td>1.494079</td>\n",
       "      <td>-0.205158</td>\n",
       "      <td>0.313068</td>\n",
       "      <td>-0.854096</td>\n",
       "    </tr>\n",
       "    <tr>\n",
       "      <th>2015-02-06</th>\n",
       "      <td>-2.552990</td>\n",
       "      <td>0.653619</td>\n",
       "      <td>0.864436</td>\n",
       "      <td>-0.742165</td>\n",
       "    </tr>\n",
       "  </tbody>\n",
       "</table>\n",
       "</div>"
      ],
      "text/plain": [
       "                   A         B         C         D\n",
       "2015-02-01  1.764052  0.400157  0.978738  2.240893\n",
       "2015-02-02  1.867558 -0.977278  0.950088 -0.151357\n",
       "2015-02-03 -0.103219  0.410599  0.144044  1.454274\n",
       "2015-02-04  0.761038  0.121675  0.443863  0.333674\n",
       "2015-02-05  1.494079 -0.205158  0.313068 -0.854096\n",
       "2015-02-06 -2.552990  0.653619  0.864436 -0.742165"
      ]
     },
     "execution_count": 24,
     "metadata": {},
     "output_type": "execute_result"
    }
   ],
   "source": [
    "import pandas as pd\n",
    "import numpy as np\n",
    "import matplotlib \n",
    "from matplotlib import pyplot\n",
    "\n",
    "dates = pd.date_range('20150201', periods=6)\n",
    "np.random.seed(0)\n",
    "df = pd.DataFrame(np.random.randn(6,4), index=dates, columns=list('ABCD'))\n",
    "df"
   ]
  },
  {
   "cell_type": "code",
   "execution_count": 25,
   "metadata": {},
   "outputs": [
    {
     "name": "stdout",
     "output_type": "stream",
     "text": [
      "                   A         B         C         D\n",
      "2015-02-01  2.764052  1.400157  1.978738  3.240893\n",
      "2015-02-02  2.867558  0.022722  1.950088  0.848643\n",
      "2015-02-03  0.896781  1.410599  1.144044  2.454274\n",
      "2015-02-04  1.761038  1.121675  1.443863  1.333674\n",
      "2015-02-05  2.494079  0.794842  1.313068  0.145904\n",
      "2015-02-06 -1.552990  1.653619  1.864436  0.257835\n"
     ]
    }
   ],
   "source": [
    "print(df.apply(lambda x:x+1))"
   ]
  },
  {
   "cell_type": "code",
   "execution_count": 26,
   "metadata": {},
   "outputs": [
    {
     "name": "stdout",
     "output_type": "stream",
     "text": [
      "0    4\n",
      "1    2\n",
      "2    0\n",
      "3    0\n",
      "4    4\n",
      "5    5\n",
      "6    5\n",
      "7    6\n",
      "8    0\n",
      "9    4\n",
      "dtype: int32\n",
      "4    3\n",
      "0    3\n",
      "5    2\n",
      "6    1\n",
      "2    1\n",
      "dtype: int64\n"
     ]
    }
   ],
   "source": [
    "s = pd.Series(np.random.randint(0, 7, size=10))\n",
    "print(s)\n",
    "print(s.value_counts())"
   ]
  },
  {
   "cell_type": "code",
   "execution_count": 27,
   "metadata": {},
   "outputs": [
    {
     "name": "stdout",
     "output_type": "stream",
     "text": [
      "                   A         B         C         D\n",
      "2015-02-01  1.764052  0.400157  0.978738  2.240893\n",
      "2015-02-02  1.867558 -0.977278  0.950088 -0.151357\n",
      "2015-02-03 -0.103219  0.410599  0.144044  1.454274 \n",
      "                    A         B         C         D\n",
      "2015-02-04  0.761038  0.121675  0.443863  0.333674\n",
      "2015-02-05  1.494079 -0.205158  0.313068 -0.854096\n",
      "2015-02-06 -2.552990  0.653619  0.864436 -0.742165\n",
      "                   A         B         C         D\n",
      "2015-02-01  1.764052  0.400157  0.978738  2.240893\n",
      "2015-02-02  1.867558 -0.977278  0.950088 -0.151357\n",
      "2015-02-03 -0.103219  0.410599  0.144044  1.454274\n",
      "2015-02-04  0.761038  0.121675  0.443863  0.333674\n",
      "2015-02-05  1.494079 -0.205158  0.313068 -0.854096\n",
      "2015-02-06 -2.552990  0.653619  0.864436 -0.742165\n"
     ]
    }
   ],
   "source": [
    "piece = [df[0:3],df[3:]]\n",
    "print(piece[0],'\\n',piece[1])\n",
    "print(pd.concat(piece))"
   ]
  },
  {
   "cell_type": "code",
   "execution_count": 65,
   "metadata": {
    "scrolled": false
   },
   "outputs": [
    {
     "name": "stdout",
     "output_type": "stream",
     "text": [
      "    dog owner   cat\n",
      "0  No.1   sam  No.1\n",
      "1  No.1   sam  No.2\n",
      "2  No.2   sam  No.1\n",
      "3  No.2   sam  No.2\n",
      "4  No.1  jack  No.1\n",
      "5  No.1  jack  No.2\n"
     ]
    }
   ],
   "source": [
    "p1 = pd.DataFrame({'owner':['sam','sam','jack'],'dog':['No.1','No.2','No.1']})\n",
    "p2 = pd.DataFrame({'owner':['jack','jack','sam','sam'],'cat':['No.1','No.2','No.1','No.2']})\n",
    "print(pd.merge(p1, p2,on='owner'))"
   ]
  },
  {
   "cell_type": "code",
   "execution_count": 73,
   "metadata": {},
   "outputs": [
    {
     "name": "stdout",
     "output_type": "stream",
     "text": [
      "   money owner\n",
      "0      1   sam\n",
      "1      2   sam\n",
      "2      3   sam\n",
      "   money owner\n",
      "0      1  jack\n",
      "1      3  jack\n",
      "       money\n",
      "owner       \n",
      "jack       4\n",
      "sam        6\n"
     ]
    }
   ],
   "source": [
    "p1 = pd.DataFrame({'money':[1,2,3],'owner':['sam','sam','sam']})\n",
    "p2 = pd.DataFrame({'money':[1,3],'owner':['jack','jack']})\n",
    "print(p1)\n",
    "print(p2)\n",
    "p12 = pd.concat([p1,p2])\n",
    "print(p12.groupby('owner').sum())"
   ]
  },
  {
   "cell_type": "code",
   "execution_count": 122,
   "metadata": {},
   "outputs": [
    {
     "name": "stdout",
     "output_type": "stream",
     "text": [
      "                           A         B\n",
      "first second third                    \n",
      "bar   one    one1  -1.895953  0.324685\n",
      "      two    two1  -0.327675  0.503068\n",
      "baz   one    one1   1.005549  0.574686\n",
      "      two    two1   1.556680 -0.418918\n",
      "foo   one    one1  -0.409717  1.116375\n",
      "      two    two1  -0.250979 -0.415228\n",
      "qux   one    one1  -0.639086  2.497768\n",
      "      two    two1  -3.005128 -0.873997\n"
     ]
    }
   ],
   "source": [
    "tuples = list(zip(*[['bar', 'bar', 'baz', 'baz',\n",
    "                     'foo', 'foo', 'qux', 'qux'],\n",
    "                   ['one', 'two', 'one', 'two',\n",
    "                     'one', 'two', 'one', 'two'],\n",
    "                   ['one1', 'two1', 'one1', 'two1',\n",
    "                     'one1', 'two1', 'one1', 'two1']]))\n",
    "index = pd.MultiIndex.from_tuples(tuples, names=['first', 'second','third'])\n",
    "df2 = pd.DataFrame(np.random.randn(8, 2), index=index, columns=['A', 'B'])\n",
    "print(df2)"
   ]
  },
  {
   "cell_type": "code",
   "execution_count": 123,
   "metadata": {},
   "outputs": [
    {
     "name": "stdout",
     "output_type": "stream",
     "text": [
      "first  second  third   \n",
      "bar    one     one1   A   -1.895953\n",
      "                      B    0.324685\n",
      "       two     two1   A   -0.327675\n",
      "                      B    0.503068\n",
      "baz    one     one1   A    1.005549\n",
      "                      B    0.574686\n",
      "       two     two1   A    1.556680\n",
      "                      B   -0.418918\n",
      "foo    one     one1   A   -0.409717\n",
      "                      B    1.116375\n",
      "       two     two1   A   -0.250979\n",
      "                      B   -0.415228\n",
      "qux    one     one1   A   -0.639086\n",
      "                      B    2.497768\n",
      "       two     two1   A   -3.005128\n",
      "                      B   -0.873997\n",
      "dtype: float64\n"
     ]
    }
   ],
   "source": [
    "stacked = df2.stack()\n",
    "print(stacked)"
   ]
  },
  {
   "cell_type": "code",
   "execution_count": 125,
   "metadata": {},
   "outputs": [
    {
     "name": "stdout",
     "output_type": "stream",
     "text": [
      "                     A                   B          \n",
      "third             one1      two1      one1      two1\n",
      "first second                                        \n",
      "bar   one    -1.895953       NaN  0.324685       NaN\n",
      "      two          NaN -0.327675       NaN  0.503068\n",
      "baz   one     1.005549       NaN  0.574686       NaN\n",
      "      two          NaN  1.556680       NaN -0.418918\n",
      "foo   one    -0.409717       NaN  1.116375       NaN\n",
      "      two          NaN -0.250979       NaN -0.415228\n",
      "qux   one    -0.639086       NaN  2.497768       NaN\n",
      "      two          NaN -3.005128       NaN -0.873997\n"
     ]
    }
   ],
   "source": [
    "print(stacked.unstack().unstack())"
   ]
  },
  {
   "cell_type": "code",
   "execution_count": 118,
   "metadata": {},
   "outputs": [
    {
     "name": "stdout",
     "output_type": "stream",
     "text": [
      "               A                   B          \n",
      "second       one       two       one       two\n",
      "first                                         \n",
      "bar    -1.733742 -0.954634 -0.615564 -0.248805\n",
      "baz    -0.055088 -1.894318  0.282070  0.838311\n",
      "foo    -0.416312 -1.197659  1.356928 -1.677046\n",
      "qux     1.011233 -0.217235 -0.728128  0.530017\n"
     ]
    }
   ],
   "source": [
    "print(stacked.unstack().unstack())"
   ]
  },
  {
   "cell_type": "code",
   "execution_count": 120,
   "metadata": {},
   "outputs": [
    {
     "data": {
      "text/plain": [
       "[(1, 4, 7), (2, 5, 8), (3, 6, 9)]"
      ]
     },
     "execution_count": 120,
     "metadata": {},
     "output_type": "execute_result"
    }
   ],
   "source": [
    "list(zip(*[[1,2,3],[4,5,6],[7,8,9]]))"
   ]
  },
  {
   "cell_type": "code",
   "execution_count": 130,
   "metadata": {},
   "outputs": [
    {
     "name": "stdout",
     "output_type": "stream",
     "text": [
      "second       one       two\n",
      "first                     \n",
      "bar    -1.895953 -0.327675\n",
      "baz     1.005549  1.556680\n",
      "foo    -0.409717 -0.250979\n",
      "qux    -0.639086 -3.005128\n"
     ]
    }
   ],
   "source": [
    "print(pd.pivot_table(df2, values='A', index=['first'], columns=['second']))"
   ]
  },
  {
   "cell_type": "code",
   "execution_count": 131,
   "metadata": {},
   "outputs": [
    {
     "name": "stdout",
     "output_type": "stream",
     "text": [
      "               A                   B          \n",
      "second       one       two       one       two\n",
      "first                                         \n",
      "bar    -1.895953 -0.327675  0.324685  0.503068\n",
      "baz     1.005549  1.556680  0.574686 -0.418918\n",
      "foo    -0.409717 -0.250979  1.116375 -0.415228\n",
      "qux    -0.639086 -3.005128  2.497768 -0.873997\n"
     ]
    }
   ],
   "source": [
    "print(pd.pivot_table(df2, values=['A','B'], index=['first'], columns=['second']))"
   ]
  },
  {
   "cell_type": "code",
   "execution_count": 132,
   "metadata": {},
   "outputs": [
    {
     "data": {
      "text/html": [
       "<div>\n",
       "<style scoped>\n",
       "    .dataframe tbody tr th:only-of-type {\n",
       "        vertical-align: middle;\n",
       "    }\n",
       "\n",
       "    .dataframe tbody tr th {\n",
       "        vertical-align: top;\n",
       "    }\n",
       "\n",
       "    .dataframe thead th {\n",
       "        text-align: right;\n",
       "    }\n",
       "</style>\n",
       "<table border=\"1\" class=\"dataframe\">\n",
       "  <thead>\n",
       "    <tr style=\"text-align: right;\">\n",
       "      <th></th>\n",
       "      <th>id</th>\n",
       "      <th>raw_grade</th>\n",
       "    </tr>\n",
       "  </thead>\n",
       "  <tbody>\n",
       "    <tr>\n",
       "      <th>0</th>\n",
       "      <td>1</td>\n",
       "      <td>a</td>\n",
       "    </tr>\n",
       "    <tr>\n",
       "      <th>1</th>\n",
       "      <td>2</td>\n",
       "      <td>b</td>\n",
       "    </tr>\n",
       "    <tr>\n",
       "      <th>2</th>\n",
       "      <td>3</td>\n",
       "      <td>b</td>\n",
       "    </tr>\n",
       "    <tr>\n",
       "      <th>3</th>\n",
       "      <td>4</td>\n",
       "      <td>a</td>\n",
       "    </tr>\n",
       "    <tr>\n",
       "      <th>4</th>\n",
       "      <td>5</td>\n",
       "      <td>a</td>\n",
       "    </tr>\n",
       "    <tr>\n",
       "      <th>5</th>\n",
       "      <td>6</td>\n",
       "      <td>e</td>\n",
       "    </tr>\n",
       "  </tbody>\n",
       "</table>\n",
       "</div>"
      ],
      "text/plain": [
       "   id raw_grade\n",
       "0   1         a\n",
       "1   2         b\n",
       "2   3         b\n",
       "3   4         a\n",
       "4   5         a\n",
       "5   6         e"
      ]
     },
     "execution_count": 132,
     "metadata": {},
     "output_type": "execute_result"
    }
   ],
   "source": [
    "df3 = pd.DataFrame({\"id\":[1,2,3,4,5,6], \"raw_grade\":['a', 'b', 'b', 'a', 'a', 'e']})\n"
   ]
  },
  {
   "cell_type": "code",
   "execution_count": 139,
   "metadata": {},
   "outputs": [
    {
     "name": "stdout",
     "output_type": "stream",
     "text": [
      "   id raw_grade grade\n",
      "0   1         a     a\n",
      "1   2         b     b\n",
      "2   3         b     b\n",
      "3   4         a     a\n",
      "4   5         a     a\n",
      "5   6         e     e \n",
      "\n",
      "   id raw_grade      grade\n",
      "0   1         a  very good\n",
      "1   2         b       good\n",
      "2   3         b       good\n",
      "3   4         a  very good\n",
      "4   5         a  very good\n",
      "5   6         e   very bad\n"
     ]
    }
   ],
   "source": [
    "df3[\"grade\"] = df3[\"raw_grade\"].astype(\"category\")\n",
    "print(df3,'\\n')\n",
    "df3[\"grade\"].cat.categories = [\"very good\", \"good\", \"very bad\"]\n",
    "print(df3)"
   ]
  },
  {
   "cell_type": "code",
   "execution_count": 148,
   "metadata": {},
   "outputs": [
    {
     "data": {
      "text/plain": [
       "<matplotlib.axes._subplots.AxesSubplot at 0x684f207208>"
      ]
     },
     "execution_count": 148,
     "metadata": {},
     "output_type": "execute_result"
    },
    {
     "data": {
      "image/png": "[encoded data removed]",
      "text/plain": [
       "<matplotlib.figure.Figure at 0x684f209b00>"
      ]
     },
     "metadata": {},
     "output_type": "display_data"
    }
   ],
   "source": [
    "array = [np.sin(i) for i in np.arange(0,2*np.pi+np.pi/20,np.pi/20)]\n",
    "s = pd.Series(array)\n",
    "s.plot()"
   ]
  },
  {
   "cell_type": "code",
   "execution_count": 156,
   "metadata": {},
   "outputs": [
    {
     "data": {
      "text/plain": [
       "<matplotlib.axes._subplots.AxesSubplot at 0x684ee2d6d8>"
      ]
     },
     "execution_count": 156,
     "metadata": {},
     "output_type": "execute_result"
    },
    {
     "data": {
      "image/png": "[encoded data removed]",
      "text/plain": [
       "<matplotlib.figure.Figure at 0x6842b3e5f8>"
      ]
     },
     "metadata": {},
     "output_type": "display_data"
    }
   ],
   "source": [
    "array1 = [np.sin(i) for i in np.arange(0,2*np.pi+np.pi/20,np.pi/20)]\n",
    "array2 = [np.cos(i) for i in np.arange(0,2*np.pi+np.pi/20,np.pi/20)]\n",
    "index1 = [i for i in np.arange(0,2*np.pi+np.pi/20,np.pi/20)]\n",
    "\n",
    "df4 = pd.DataFrame({'sin':array1,'cos':array2},index=index1)\n",
    "df4.plot()"
   ]
  },
  {
   "cell_type": "code",
   "execution_count": null,
   "metadata": {},
   "outputs": [],
   "source": []
  }
 ],
 "metadata": {
  "kernelspec": {
   "display_name": "Python 3",
   "language": "python",
   "name": "python3"
  },
  "language_info": {
   "codemirror_mode": {
    "name": "ipython",
    "version": 3
   },
   "file_extension": ".py",
   "mimetype": "text/x-python",
   "name": "python",
   "nbconvert_exporter": "python",
   "pygments_lexer": "ipython3",
   "version": "3.6.3"
  }
 },
 "nbformat": 4,
 "nbformat_minor": 2
}

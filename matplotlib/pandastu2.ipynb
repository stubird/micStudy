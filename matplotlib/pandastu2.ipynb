{
 "cells": [
  {
   "cell_type": "code",
   "execution_count": 3,
   "metadata": {},
   "outputs": [
    {
     "data": {
      "text/html": [
       "<div>\n",
       "<style scoped>\n",
       "    .dataframe tbody tr th:only-of-type {\n",
       "        vertical-align: middle;\n",
       "    }\n",
       "\n",
       "    .dataframe tbody tr th {\n",
       "        vertical-align: top;\n",
       "    }\n",
       "\n",
       "    .dataframe thead th {\n",
       "        text-align: right;\n",
       "    }\n",
       "</style>\n",
       "<table border=\"1\" class=\"dataframe\">\n",
       "  <thead>\n",
       "    <tr style=\"text-align: right;\">\n",
       "      <th></th>\n",
       "      <th>A</th>\n",
       "      <th>B</th>\n",
       "      <th>d</th>\n",
       "      <th>D</th>\n",
       "    </tr>\n",
       "  </thead>\n",
       "  <tbody>\n",
       "    <tr>\n",
       "      <th>2015-02-01</th>\n",
       "      <td>-0.191146</td>\n",
       "      <td>0.429406</td>\n",
       "      <td>0.721240</td>\n",
       "      <td>-0.590788</td>\n",
       "    </tr>\n",
       "    <tr>\n",
       "      <th>2015-02-02</th>\n",
       "      <td>2.450843</td>\n",
       "      <td>0.003850</td>\n",
       "      <td>-0.105079</td>\n",
       "      <td>-0.196691</td>\n",
       "    </tr>\n",
       "    <tr>\n",
       "      <th>2015-02-03</th>\n",
       "      <td>0.776173</td>\n",
       "      <td>-0.716092</td>\n",
       "      <td>0.978703</td>\n",
       "      <td>0.335256</td>\n",
       "    </tr>\n",
       "    <tr>\n",
       "      <th>2015-02-04</th>\n",
       "      <td>-1.196908</td>\n",
       "      <td>0.877051</td>\n",
       "      <td>-0.043900</td>\n",
       "      <td>-0.378933</td>\n",
       "    </tr>\n",
       "    <tr>\n",
       "      <th>2015-02-05</th>\n",
       "      <td>0.252792</td>\n",
       "      <td>0.994821</td>\n",
       "      <td>-0.540124</td>\n",
       "      <td>-0.681346</td>\n",
       "    </tr>\n",
       "    <tr>\n",
       "      <th>2015-02-06</th>\n",
       "      <td>-0.942385</td>\n",
       "      <td>0.725405</td>\n",
       "      <td>0.979518</td>\n",
       "      <td>-0.218183</td>\n",
       "    </tr>\n",
       "  </tbody>\n",
       "</table>\n",
       "</div>"
      ],
      "text/plain": [
       "                   A         B         d         D\n",
       "2015-02-01 -0.191146  0.429406  0.721240 -0.590788\n",
       "2015-02-02  2.450843  0.003850 -0.105079 -0.196691\n",
       "2015-02-03  0.776173 -0.716092  0.978703  0.335256\n",
       "2015-02-04 -1.196908  0.877051 -0.043900 -0.378933\n",
       "2015-02-05  0.252792  0.994821 -0.540124 -0.681346\n",
       "2015-02-06 -0.942385  0.725405  0.979518 -0.218183"
      ]
     },
     "execution_count": 3,
     "metadata": {},
     "output_type": "execute_result"
    }
   ],
   "source": [
    "import pandas as pd\n",
    "import numpy as np\n",
    "import matplotlib \n",
    "from matplotlib import pyplot\n",
    "\n",
    "dates = pd.date_range('20150201', periods=6)\n",
    "df = pd.DataFrame(np.random.randn(6,4), index=dates, columns=list('ABdD'))\n",
    "df"
   ]
  },
  {
   "cell_type": "code",
   "execution_count": null,
   "metadata": {},
   "outputs": [],
   "source": []
  }
 ],
 "metadata": {
  "kernelspec": {
   "display_name": "Python 3",
   "language": "python",
   "name": "python3"
  },
  "language_info": {
   "codemirror_mode": {
    "name": "ipython",
    "version": 3
   },
   "file_extension": ".py",
   "mimetype": "text/x-python",
   "name": "python",
   "nbconvert_exporter": "python",
   "pygments_lexer": "ipython3",
   "version": "3.6.3"
  }
 },
 "nbformat": 4,
 "nbformat_minor": 2
}

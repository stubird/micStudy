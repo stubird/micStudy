{
 "cells": [
  {
   "cell_type": "code",
   "execution_count": null,
   "metadata": {
    "collapsed": true
   },
   "outputs": [],
   "source": [
    "class A(object):\n",
    "    def __init__(self):\n",
    "        self.aa = \"AAA\"\n",
    "        print(\"into A\")\n",
    "        super().__init__()\n",
    "        self.namea=\"aaa\"\n",
    "        print(\"out A\")\n",
    "        \n",
    "    def funca(self):\n",
    "        print (\"function a : %s\"%self.namea)\n",
    "\n",
    "class B(A):\n",
    "    def __init__(self):\n",
    "        print(\"into B\")\n",
    "        super(B,self).__init__()\n",
    "        self.nameb=\"bbb\"\n",
    "        print(\"out B\")\n",
    "\n",
    "    def funcb(self):\n",
    "        print (\"function b : %s\"%self.nameb)\n",
    "\n",
    "class E():\n",
    "    def __init__(self):\n",
    "        print(\"into E\")\n",
    "        self.nameb=\"bbb\"\n",
    "        print(\"out E\")\n",
    "\n",
    "        \n",
    "class C(A, E, dict):\n",
    "    def __init__(self):\n",
    "        print(\"into C\")\n",
    "        super().__init__()\n",
    "        self.nameb=\"bbb\"\n",
    "        print(\"into C\")\n",
    "\n",
    "    def funcb(self):\n",
    "        print (\"function b : %s\"%self.nameb)\n",
    "\n",
    "print(\"create A\")\n",
    "a = A()\n",
    "print(\"create B\")\n",
    "b = B()\n",
    "print(\"create C\")\n",
    "c = C()"
   ]
  }
 ],
 "metadata": {
  "kernelspec": {
   "display_name": "Python 2",
   "language": "python",
   "name": "python2"
  },
  "language_info": {
   "codemirror_mode": {
    "name": "ipython",
    "version": 2
   },
   "file_extension": ".py",
   "mimetype": "text/x-python",
   "name": "python",
   "nbconvert_exporter": "python",
   "pygments_lexer": "ipython2",
   "version": "2.7.6"
  }
 },
 "nbformat": 4,
 "nbformat_minor": 0
}

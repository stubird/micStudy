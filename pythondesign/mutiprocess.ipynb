{
 "cells": [
  {
   "cell_type": "code",
   "execution_count": 19,
   "metadata": {},
   "outputs": [
    {
     "name": "stdout",
     "output_type": "stream",
     "text": [
      "i'm process1 and let x+=1: x= 1 time: Thu Mar 29 14:07:33 2018 sign: pro10\n",
      "i'm process1 and let x+=1: x= 2 time: Thu Mar 29 14:07:34 2018 sign: pro11\n",
      "i'm process1 and let x+=1: x= 3 time: Thu Mar 29 14:07:35 2018 sign: pro12\n",
      "i'm process1 and let x+=1: x= 4 time: Thu Mar 29 14:07:36 2018 sign: pro10\n",
      "i'm process1 and let x+=1: x= 5 time: Thu Mar 29 14:07:37 2018 sign: pro11\n",
      "i'm process1 and let x+=1: x= 6 time: Thu Mar 29 14:07:38 2018 sign: pro12\n",
      "6\n"
     ]
    }
   ],
   "source": [
    "import threading as td\n",
    "from time import ctime, sleep\n",
    "\n",
    "def process1(name):\n",
    "    global x\n",
    "    lock.acquire()\n",
    "    sleep(1)\n",
    "    x+=1\n",
    "    print(\"i'm process1 and let x+=1: x=\",x, \"time:\",ctime(),\"sign:\",name)\n",
    "    lock.release()\n",
    "    \n",
    "def process2(name):\n",
    "    global x\n",
    "    lock.acquire()\n",
    "    x+=1\n",
    "    sleep(1)\n",
    "\n",
    "    print(\"i'm process1 and let x+=1: x=\",x, \"time:\",ctime(),\"sign:\",name)\n",
    "    lock.release()\n",
    "    \n",
    "threads = []\n",
    "threads2 = []\n",
    "x = 0\n",
    "lock = td.RLock()\n",
    "for i in range(3):\n",
    "    threads.append(td.Thread(target=process1,args=(\"pro1\"+str(i),)))\n",
    "    threads2.append(td.Thread(target=process2,args=(\"pro1\"+str(i),)))\n",
    "    \n",
    "for i in threads:\n",
    "    i.start()\n",
    "for j in threads2:\n",
    "    j.start()\n",
    "i.join()\n",
    "j.join()\n",
    "print(x)"
   ]
  },
  {
   "cell_type": "code",
   "execution_count": 104,
   "metadata": {},
   "outputs": [
    {
     "name": "stdout",
     "output_type": "stream",
     "text": [
      "wait money to spend ...\n",
      "me,me! make 100 money, resave:100 yuan, already spent:0,time:Fri Mar 30 13:45:15 2018\n",
      "me,me! make 100 money, resave:200 yuan, already spent:0,time:Fri Mar 30 13:45:16 2018\n",
      "lao,po! spend 100 money, resave:100 yuan, already spent:100:time:Fri Mar 30 13:45:16 2018\n",
      "me,me! make 100 money, resave:200 yuan, already spent:100,time:Fri Mar 30 13:45:16 2018\n",
      "lao,po! spend 100 money, resave:100 yuan, already spent:200:time:Fri Mar 30 13:45:16 2018\n",
      "me,me! make 100 money, resave:200 yuan, already spent:200,time:Fri Mar 30 13:45:16 2018\n",
      "me,me! make 100 money, resave:300 yuan, already spent:200,time:Fri Mar 30 13:45:16 2018\n",
      "lao,po! spend 100 money, resave:200 yuan, already spent:300:time:Fri Mar 30 13:45:16 2018\n",
      "me,me! make 100 money, resave:300 yuan, already spent:300,time:Fri Mar 30 13:45:16 2018\n",
      "lao,po! spend 100 money, resave:200 yuan, already spent:400:time:Fri Mar 30 13:45:17 2018\n",
      "me,me! make 100 money, resave:300 yuan, already spent:400,time:Fri Mar 30 13:45:17 2018\n",
      "me,me! make 100 money, resave:400 yuan, already spent:400,time:Fri Mar 30 13:45:17 2018\n",
      "lao,po! spend 100 money, resave:300 yuan, already spent:500:time:Fri Mar 30 13:45:17 2018\n",
      "me,me! make 100 money, resave:400 yuan, already spent:500,time:Fri Mar 30 13:45:17 2018\n",
      "lao,po! spend 100 money, resave:300 yuan, already spent:600:time:Fri Mar 30 13:45:17 2018\n",
      "me,me! make 100 money, resave:400 yuan, already spent:600,time:Fri Mar 30 13:45:17 2018\n",
      "me,me! make 100 money, resave:500 yuan, already spent:600,time:Fri Mar 30 13:45:17 2018\n",
      "lao,po! spend 100 money, resave:400 yuan, already spent:700:time:Fri Mar 30 13:45:17 2018\n",
      "me,me! make 100 money, resave:500 yuan, already spent:700,time:Fri Mar 30 13:45:18 2018\n",
      "lao,po! spend 100 money, resave:400 yuan, already spent:800:time:Fri Mar 30 13:45:18 2018\n",
      "me,me! make 100 money, resave:500 yuan, already spent:800,time:Fri Mar 30 13:45:18 2018\n",
      "me,me! make 100 money, resave:600 yuan, already spent:800,time:Fri Mar 30 13:45:18 2018\n",
      "lao,po! spend 100 money, resave:500 yuan, already spent:900:time:Fri Mar 30 13:45:18 2018\n",
      "me,me! make 100 money, resave:600 yuan, already spent:900,time:Fri Mar 30 13:45:18 2018\n",
      "lao,po! spend 100 money, resave:500 yuan, already spent:1000:time:Fri Mar 30 13:45:18 2018\n",
      "me,me! make 100 money, resave:600 yuan, already spent:1000,time:Fri Mar 30 13:45:18 2018\n",
      "me,me! make 100 money, resave:700 yuan, already spent:1000,time:Fri Mar 30 13:45:19 2018\n",
      "wait to make money ...\n",
      "lao,po! spend 100 money, resave:600 yuan, already spent:1100:time:Fri Mar 30 13:45:19 2018\n",
      "me,me! make 100 money, resave:700 yuan, already spent:1100,time:Fri Mar 30 13:45:19 2018\n",
      "wait to make money ...\n",
      "lao,po! spend 100 money, resave:600 yuan, already spent:1200:time:Fri Mar 30 13:45:19 2018\n",
      "me,me! make 100 money, resave:700 yuan, already spent:1200,time:Fri Mar 30 13:45:19 2018\n",
      "wait to make money ...\n",
      "lao,po! spend 100 money, resave:600 yuan, already spent:1300:time:Fri Mar 30 13:45:19 2018\n",
      "me,me! make 100 money, resave:700 yuan, already spent:1300,time:Fri Mar 30 13:45:20 2018\n",
      "commision complete, bye!\n",
      "lao,po! spend 100 money, resave:600 yuan, already spent:1400:time:Fri Mar 30 13:45:20 2018\n",
      "lao,po! spend 100 money, resave:500 yuan, already spent:1500:time:Fri Mar 30 13:45:20 2018\n",
      "lao,po! spend 100 money, resave:400 yuan, already spent:1600:time:Fri Mar 30 13:45:20 2018\n",
      "lao,po! spend 100 money, resave:300 yuan, already spent:1700:time:Fri Mar 30 13:45:21 2018\n",
      "lao,po! spend 100 money, resave:200 yuan, already spent:1800:time:Fri Mar 30 13:45:21 2018\n",
      "lao,po! spend 100 money, resave:100 yuan, already spent:1900:time:Fri Mar 30 13:45:21 2018\n",
      "lao,po! spend 100 money, resave:0 yuan, already spent:2000:time:Fri Mar 30 13:45:21 2018\n",
      "spend money is happy! bye!\n",
      "all great!bye!\n"
     ]
    }
   ],
   "source": [
    "import threading as td\n",
    "from time import ctime, sleep\n",
    "\n",
    "def makemoney(name):\n",
    "    sleep(1)\n",
    "\n",
    "    global money\n",
    "    global mademoney\n",
    "    while True:\n",
    "        if mademoney >= 2000:\n",
    "            print(\"commision complete, bye!\")\n",
    "            cond.acquire()\n",
    "            cond.wait()\n",
    "            cond.release()\n",
    "            break\n",
    "        else:\n",
    "            if money < 700:\n",
    "                if money > 100:\n",
    "                    cond.acquire()\n",
    "                    cond.notify()\n",
    "                    cond.release()\n",
    "                sleep(0.2)\n",
    "                money+=100\n",
    "                mademoney += 100\n",
    "                print(\"{} make 100 money, resave:{} yuan, already spent:{},time:{}\".format(name, money, spentmoney,ctime()))\n",
    "                cond.acquire()\n",
    "                cond.notify()\n",
    "                cond.release()\n",
    "            else:\n",
    "                cond.acquire()\n",
    "                print(\"wait to make money ...\")\n",
    "                cond.wait()\n",
    "                cond.release()\n",
    "\n",
    "def spendmoney(name):\n",
    "\n",
    "    global money\n",
    "    global spentmoney\n",
    "\n",
    "    while True:\n",
    "        if spentmoney >= 2000:\n",
    "            print(\"spend money is happy! bye!\")\n",
    "            cond.acquire()\n",
    "            cond.notify()\n",
    "            cond.release()\n",
    "            break\n",
    "        else:\n",
    "            if money < 100:\n",
    "                print(\"wait money to spend ...\")\n",
    "                cond.acquire()\n",
    "                cond.notify()\n",
    "                cond.wait()\n",
    "                cond.release()\n",
    "            else:\n",
    "                if money < 700:\n",
    "                    cond.acquire()\n",
    "                    cond.notify()\n",
    "                    cond.release()\n",
    "                sleep(0.3)\n",
    "                money -= 100\n",
    "                spentmoney += 100\n",
    "                print(\"{} spend 100 money, resave:{} yuan, already spent:{}:time:{}\".format(name, money, spentmoney,ctime()))       \n",
    "                \n",
    "    \n",
    "\n",
    "    \n",
    "mine = td.Thread(target=makemoney,args=(\"me,me!\",))\n",
    "mygf = td.Thread(target=spendmoney,args=(\"lao,po!\",))\n",
    "\n",
    "money=0\n",
    "spentmoney=0\n",
    "mademoney=0\n",
    "cond = td.Condition()\n",
    "mine.start()\n",
    "mygf.start()\n",
    "mine.join()\n",
    "mygf.join()\n",
    "\n",
    "print(\"all great!bye!\")"
   ]
  },
  {
   "cell_type": "code",
   "execution_count": 109,
   "metadata": {},
   "outputs": [
    {
     "name": "stdout",
     "output_type": "stream",
     "text": [
      "1724991\n"
     ]
    }
   ],
   "source": [
    "import threading as td\n",
    "def th1():\n",
    "    global a\n",
    "    i = 0\n",
    "    while i < 1000000:\n",
    "        i+=1\n",
    "        a+=1\n",
    "\n",
    "def th2():\n",
    "    global a\n",
    "    i = 0\n",
    "    while i < 1000000:\n",
    "        i+=1\n",
    "        a+=1\n",
    "\n",
    "a=0\n",
    "tdd1 = td.Thread(target=th1)\n",
    "tdd2 = td.Thread(target=th2)\n",
    "tdd1.start()\n",
    "tdd2.start()\n",
    "tdd1.join()\n",
    "tdd2.join()\n",
    "print(a)"
   ]
  },
  {
   "cell_type": "code",
   "execution_count": 112,
   "metadata": {},
   "outputs": [
    {
     "name": "stdout",
     "output_type": "stream",
     "text": [
      "Parent process 11064.\n",
      "Child process will start.\n",
      "Child process end.\n"
     ]
    }
   ],
   "source": [
    "from multiprocessing import Process\n",
    "import os\n",
    "\n",
    "# 子进程要执行的代码\n",
    "def run_proc(name):\n",
    "    print('Run child process %s (%s)...' % (name, os.getpid()))\n",
    "\n",
    "if __name__=='__main__':\n",
    "    print('Parent process %s.' % os.getpid())\n",
    "    p = Process(target=run_proc, args=('test',))\n",
    "    print('Child process will start.')\n",
    "    p.start()\n",
    "    p.join()\n",
    "    print('Child process end.')"
   ]
  },
  {
   "cell_type": "code",
   "execution_count": null,
   "metadata": {},
   "outputs": [
    {
     "name": "stdout",
     "output_type": "stream",
     "text": [
      "Parent process 11064.\n",
      "Waiting for all subprocesses done...\n"
     ]
    }
   ],
   "source": [
    "from multiprocessing import Pool\n",
    "import os, time, random\n",
    "\n",
    "def long_time_task(name):\n",
    "    print('Run task %s (%s)...' % (name, os.getpid()))\n",
    "    start = time.time()\n",
    "    time.sleep(random.random() * 3)\n",
    "    end = time.time()\n",
    "    print('Task %s runs %0.2f seconds.' % (name, (end - start)))\n",
    "\n",
    "if __name__=='__main__':\n",
    "    print('Parent process %s.' % os.getpid())\n",
    "    p = Pool(4)\n",
    "    for i in range(5):\n",
    "        p.apply_async(long_time_task, args=(i,))\n",
    "    print('Waiting for all subprocesses done...')\n",
    "    p.close()\n",
    "    p.join()\n",
    "    print('All subprocesses done.')"
   ]
  },
  {
   "cell_type": "code",
   "execution_count": 6,
   "metadata": {},
   "outputs": [
    {
     "data": {
      "text/plain": [
       "1"
      ]
     },
     "execution_count": 6,
     "metadata": {},
     "output_type": "execute_result"
    }
   ],
   "source": [
    "True and 1 or True"
   ]
  },
  {
   "cell_type": "code",
   "execution_count": 13,
   "metadata": {},
   "outputs": [
    {
     "name": "stdout",
     "output_type": "stream",
     "text": [
      "my name is : god\n",
      "gogobkbkb\n"
     ]
    }
   ],
   "source": [
    "def fn(self, name):\n",
    "    print(\"my name is :\", name)\n",
    "\n",
    "prnam = type('prt', (object,), dict(hello=fn))\n",
    "pr = prnam()\n",
    "pr.hello(\"god\")\n",
    "\n",
    "class gogo:\n",
    "    def jik(self, name):\n",
    "        print(\"gogo\" + name)\n",
    "gogo.jik(gogo,\"bkbkb\")"
   ]
  },
  {
   "cell_type": "code",
   "execution_count": 60,
   "metadata": {},
   "outputs": [
    {
     "name": "stdout",
     "output_type": "stream",
     "text": [
      "create biubiu,name is : jack , kong= koe\n",
      "args ('jack',)  kargs: {'kong': 'koe'}\n",
      "name=jack, kong = koe\n",
      "name=jack, kong = koe True\n",
      "don't take a chance!\n"
     ]
    }
   ],
   "source": [
    "def singleton(cls, *args, **kargs):\n",
    "    instens = {}\n",
    "    def _single(*args, **kargs):\n",
    "        if cls not in instens:\n",
    "            instens[cls] = cls(*args, **kargs)\n",
    "            print(\"args\",args,\" kargs:\",kargs)\n",
    "        #else:\n",
    "        #    instens[cls] = cls(*args, **kargs)\n",
    "        return instens[cls]\n",
    "    return _single\n",
    "\n",
    "def selfcor(fuc, *args):\n",
    "    return fuc\n",
    "\n",
    "@selfcor\n",
    "def fuc(a):\n",
    "    print(\"don't take a chance!\")\n",
    "    \n",
    "@singleton\n",
    "class biubiu:\n",
    "    def __init__(self,name,kong=\"kongkong\"):\n",
    "        print(\"create biubiu,name is :\",name,\", kong=\",kong)\n",
    "        self.name = name\n",
    "        self.kong = kong\n",
    "    \n",
    "    def __str__(self):\n",
    "        return \"name=\" + self.name + \", kong = \" + self.kong\n",
    "\n",
    "bi = biubiu('jack', kong=\"koe\")\n",
    "ai = biubiu('zkk', kong=\"loi\")\n",
    "print(bi)\n",
    "print(ai, bi==ai)\n",
    "\n",
    "fuc('df')"
   ]
  },
  {
   "cell_type": "code",
   "execution_count": 72,
   "metadata": {},
   "outputs": [
    {
     "name": "stdout",
     "output_type": "stream",
     "text": [
      "Parent\n",
      "HelloWorld from Parent\n",
      "Child bar fuction\n",
      "I'm the parent.\n"
     ]
    }
   ],
   "source": [
    "class FooParent(object):\n",
    "    def __init__(self):\n",
    "        self.parent = 'I\\'m the parent.'\n",
    "        print ('Parent')\n",
    "    \n",
    "    def bar(self,message):\n",
    "        print (\"%s from Parent\" % message)\n",
    " \n",
    "class FooChild(FooParent):\n",
    "    def __init__(self):\n",
    "        # super(FooChild,self) 首先找到 FooChild 的父类（就是类 FooParent），然后把类B的对象 FooChild 转换为类 FooParent 的对象\n",
    "        super(FooChild,self).__init__()    \n",
    "        print ('Child')\n",
    "        \n",
    "    def bar(self,message):\n",
    "        super(FooChild, self).bar(message)\n",
    "        print ('Child bar fuction')\n",
    "        print (self.parent)\n",
    " \n",
    "if __name__ == '__main__':\n",
    "    fooChild = FooChild()\n",
    "    fooChild.bar('HelloWorld')"
   ]
  },
  {
   "cell_type": "code",
   "execution_count": 96,
   "metadata": {},
   "outputs": [
    {
     "name": "stdout",
     "output_type": "stream",
     "text": [
      "<class '__main__.MyClass'>\n",
      "<super: <class 'SingleTon'>, <MyClass object>>\n",
      "{<class '__main__.MyClass'>: <__main__.MyClass object at 0x0000002B47FEBA20>}\n",
      "<class '__main__.MyClass2'>\n",
      "<super: <class 'SingleTon'>, <MyClass2 object>>\n",
      "{<class '__main__.MyClass'>: <__main__.MyClass object at 0x0000002B47FEBA20>, <class '__main__.MyClass2'>: <__main__.MyClass2 object at 0x0000002B47FD7320>}\n"
     ]
    },
    {
     "data": {
      "text/plain": [
       "False"
      ]
     },
     "execution_count": 96,
     "metadata": {},
     "output_type": "execute_result"
    }
   ],
   "source": [
    "#implement a singleton by \n",
    "class SingleTon(object):\n",
    "    _instance = {}\n",
    "\n",
    "    def __new__(cls, *args, **kwargs):\n",
    "        print(cls)\n",
    "#         global _instance\n",
    "#         print(_instance)\n",
    "        if cls not in cls._instance:\n",
    "            print(super(SingleTon, cls))\n",
    "            cls._instance[cls] = super(SingleTon, cls).__new__(cls, *args, **kwargs)\n",
    "        print (cls._instance)\n",
    "        return cls._instance[cls]\n",
    "\n",
    "\n",
    "class MyClass(SingleTon):\n",
    "    class_val = 22\n",
    "\n",
    "class MyClass2(SingleTon):\n",
    "    class_val = 22\n",
    "    \n",
    "a = MyClass()\n",
    "b = MyClass2()\n",
    "a == b"
   ]
  },
  {
   "cell_type": "code",
   "execution_count": 102,
   "metadata": {},
   "outputs": [
    {
     "name": "stdout",
     "output_type": "stream",
     "text": [
      "12\n",
      "32\n",
      "True 32\n"
     ]
    }
   ],
   "source": [
    "class Singleton1(object):\n",
    "    def __new__(clz, *arg, **kwargs):\n",
    "        if not hasattr(clz,'instence'):\n",
    "            clz.instence = super(Singleton1, clz).__new__(clz)\n",
    "            return clz.instence\n",
    "        else:\n",
    "            return clz.instence\n",
    "    \n",
    "    def __init__(self, nums):\n",
    "        self.value = nums\n",
    "        super(Singleton1,self).__init__()\n",
    "        print(self.value)\n",
    "\n",
    "a = Singleton1(12)\n",
    "b = Singleton1(32)\n",
    "\n",
    "print(a==b,a.value)"
   ]
  },
  {
   "cell_type": "code",
   "execution_count": 95,
   "metadata": {},
   "outputs": [
    {
     "name": "stdout",
     "output_type": "stream",
     "text": [
      "True\n"
     ]
    }
   ],
   "source": [
    "def Singleton2(clz, *args, **kwargs):\n",
    "    instence = {}\n",
    "    def _single():\n",
    "        if clz in instence:\n",
    "            return instence[clz]\n",
    "        else:\n",
    "            instence[clz] = clz(*args, **kwargs)\n",
    "            return instence[clz]\n",
    "    return _single\n",
    "\n",
    "@Singleton2\n",
    "class kingsg(object):\n",
    "    a=11\n",
    "\n",
    "tk=kingsg()\n",
    "tk2=kingsg()\n",
    "print(tk==tk2)"
   ]
  },
  {
   "cell_type": "code",
   "execution_count": 101,
   "metadata": {},
   "outputs": [
    {
     "data": {
      "text/plain": [
       "False"
      ]
     },
     "execution_count": 101,
     "metadata": {},
     "output_type": "execute_result"
    }
   ],
   "source": [
    "class Singleton4(object):\n",
    "    def __new__(cls, *args, **kw):\n",
    "        if not hasattr(cls, '_instance'):\n",
    "            orig = super(Singleton4, cls)\n",
    "            cls._instance = orig.__new__(cls, *args, **kw)\n",
    "        return cls._instance\n",
    "\n",
    "class MyClass(Singleton4):\n",
    "    a = 1\n",
    "class MyClass2(Singleton4):\n",
    "    b=3\n",
    "a = MyClass()\n",
    "b = MyClass2()\n",
    "a == b"
   ]
  },
  {
   "cell_type": "code",
   "execution_count": 45,
   "metadata": {},
   "outputs": [
    {
     "name": "stdout",
     "output_type": "stream",
     "text": [
      "[[1, 2], [3, 4]]\n",
      "[[1, 2], [3, 4]]\n",
      "False\n",
      "ass keo\n"
     ]
    }
   ],
   "source": [
    "import copy\n",
    "a = [1,2]\n",
    "b = [3,4]\n",
    "c = [a,b]\n",
    "d = copy.deepcopy(c)\n",
    "print(d)\n",
    "a[1] = 3\n",
    "print(d)\n",
    "\n",
    "class forcopy:\n",
    "    def __init__(self, a):\n",
    "        self.a = a\n",
    "\n",
    "class copythis:\n",
    "    def __init__(self,b):\n",
    "        self.b = b\n",
    "\n",
    "a = forcopy(\"ass\")\n",
    "b = copythis(a)\n",
    "\n",
    "c = copy.deepcopy(b)\n",
    "\n",
    "print(c == b)\n",
    "a.a = \"keo\"\n",
    "print(c.b.a, b.b.a)"
   ]
  },
  {
   "cell_type": "code",
   "execution_count": 60,
   "metadata": {},
   "outputs": [
    {
     "name": "stdout",
     "output_type": "stream",
     "text": [
      "hehe only print?\n",
      "increadiable\n",
      "gogo mym\n"
     ]
    }
   ],
   "source": [
    "def func():\n",
    "    'increadiable'\n",
    "    'but no end'\n",
    "    print(\"hehe only print?\")\n",
    "func()\n",
    "print(func.__doc__)\n",
    "\n",
    "class gogo:\n",
    "    def __init__(self, name):\n",
    "        self.name = name\n",
    "        print(\"gogo \" + name)\n",
    "\n",
    "go1 = gogo(\"mym\")\n",
    "del go1.name\n",
    "#delattr(go1, 'name')"
   ]
  },
  {
   "cell_type": "code",
   "execution_count": 65,
   "metadata": {},
   "outputs": [
    {
     "data": {
      "text/plain": [
       "3.3000000000000007"
      ]
     },
     "execution_count": 65,
     "metadata": {},
     "output_type": "execute_result"
    }
   ],
   "source": [
    "#use of divmod\n",
    "divmod(11.3,4)"
   ]
  },
  {
   "cell_type": "code",
   "execution_count": 78,
   "metadata": {},
   "outputs": [
    {
     "name": "stdout",
     "output_type": "stream",
     "text": [
      "divmod(11.3,4)[1]\n"
     ]
    },
    {
     "data": {
      "text/plain": [
       "{'In': ['',\n",
       "  'import threading as td\\nfrom time import ctime, sleep\\n\\ndef makemoney(name):\\n    sleep(1)\\n\\n    global money\\n    global mademoney\\n    while True:\\n        if mademoney >= 2000:\\n            print(\"commision complete, bye!\")\\n            cond.acquire()\\n            cond.wait()\\n            cond.release()\\n            break\\n        else:\\n            if money < 700:\\n                if money > 100:\\n                    cond.acquire()\\n                    cond.notify()\\n                    cond.release()\\n                sleep(0.2)\\n                money+=100\\n                mademoney += 100\\n                print(\"{} make 100 money, resave:{} yuan, already spent:{}\".format(name, money, spentmoney))\\n                cond.acquire()\\n                cond.notify()\\n                cond.release()\\n            else:\\n                cond.acquire()\\n                print(\"wait to make money ...\")\\n                cond.wait()\\n                cond.release()\\n\\ndef spendmoney(name):\\n\\n    global money\\n    global spentmoney\\n\\n    while True:\\n        if spentmoney >= 2000:\\n            print(\"spend money is happy! bye!\")\\n            cond.acquire()\\n            cond.notify()\\n            cond.release()\\n            break\\n        else:\\n            if money < 100:\\n                print(\"wait money to spend ...\")\\n                cond.acquire()\\n                cond.notify()\\n                cond.wait()\\n                cond.release()\\n            else:\\n                if money < 700:\\n                    cond.acquire()\\n                    cond.notify()\\n                    cond.release()\\n                sleep(0.5)\\n                money -= 100\\n                spentmoney += 100\\n                print(\"{} spend 100 money, resave:{} yuan, already spent:{}\".format(name, money, spentmoney))       \\n                \\n    \\n\\n    \\nmine = td.Thread(target=makemoney,args=(\"me,me!\",))\\nmygf = td.Thread(target=spendmoney,args=(\"lao,po!\",))\\n\\nmoney=0\\nspentmoney=0\\nmademoney=0\\ncond = td.Condition()\\nmine.start()\\nmygf.start()\\nmine.join()\\nmygf.join()\\n\\nprint(\"all great!bye!\")',\n",
       "  'import threading as td\\nfrom time import ctime, sleep\\n\\ndef makemoney(name):\\n    sleep(1)\\n\\n    global money\\n    global mademoney\\n    while True:\\n        if mademoney >= 2000:\\n            print(\"commision complete, bye!\")\\n            cond.acquire()\\n            cond.wait()\\n            cond.release()\\n            break\\n        else:\\n            if money < 700:\\n                if money > 100:\\n                    cond.acquire()\\n                    cond.notify()\\n                    cond.release()\\n                sleep(0.2)\\n                money+=100\\n                mademoney += 100\\n                print(\"{} make 100 money, resave:{} yuan, already spent:{},time:{}\".format(name, money, spentmoney,ctime()))\\n                cond.acquire()\\n                cond.notify()\\n                cond.release()\\n            else:\\n                cond.acquire()\\n                print(\"wait to make money ...\")\\n                cond.wait()\\n                cond.release()\\n\\ndef spendmoney(name):\\n\\n    global money\\n    global spentmoney\\n\\n    while True:\\n        if spentmoney >= 2000:\\n            print(\"spend money is happy! bye!\")\\n            cond.acquire()\\n            cond.notify()\\n            cond.release()\\n            break\\n        else:\\n            if money < 100:\\n                print(\"wait money to spend ...\")\\n                cond.acquire()\\n                cond.notify()\\n                cond.wait()\\n                cond.release()\\n            else:\\n                if money < 700:\\n                    cond.acquire()\\n                    cond.notify()\\n                    cond.release()\\n                sleep(0.3)\\n                money -= 100\\n                spentmoney += 100\\n                print(\"{} spend 100 money, resave:{} yuan, already spent:{}:time:{}\".format(name, money, spentmoney,ctime()))       \\n                \\n    \\n\\n    \\nmine = td.Thread(target=makemoney,args=(\"me,me!\",))\\nmygf = td.Thread(target=spendmoney,args=(\"lao,po!\",))\\n\\nmoney=0\\nspentmoney=0\\nmademoney=0\\ncond = td.Condition()\\nmine.start()\\nmygf.start()\\nmine.join()\\nmygf.join()\\n\\nprint(\"all great!bye!\")',\n",
       "  'True and True or False',\n",
       "  'True and False or False',\n",
       "  'True and False or True',\n",
       "  'True and 1 or True',\n",
       "  'def fn(self, name):\\n    print(\"my name is :\", name)\\n\\nprnam = type(\\'prt\\', (object,), dict(\\'hello\\'=fn))\\nprnam.hello(\"god\")',\n",
       "  'def fn(self, name):\\n    print(\"my name is :\", name)\\n\\nprnam = type(\\'prt\\', (object,), dict(helle=fn))\\nprnam.hello(\"god\")',\n",
       "  'def fn(self, name):\\n    print(\"my name is :\", name)\\n\\nprnam = type(\\'prt\\', (object,), dict(hello=fn))\\nprnam.hello(\"god\")',\n",
       "  'def fn(self, name):\\n    print(\"my name is :\", name)\\n\\nprnam = type(\\'prt\\', (object,), dict(hello=fn))\\nprnam.hello(prnam,\"god\")',\n",
       "  'def fn(self, name):\\n    print(\"my name is :\", name)\\n\\nprnam = type(\\'prt\\', (object,), dict(hello=fn))\\nprnam.hello(object,\"god\")',\n",
       "  'def fn(self, name):\\n    print(\"my name is :\", name)\\n\\nprnam = type(\\'prt\\', (object,), dict(hello=fn))\\npr = prnam()\\npr.hello(\"god\")',\n",
       "  'def fn(self, name):\\n    print(\"my name is :\", name)\\n\\nprnam = type(\\'prt\\', (object,), dict(hello=fn))\\npr = prnam()\\npr.hello(\"god\")\\n\\nclass gogo:\\n    def jik(self, name):\\n        print(\"gogo\" + name)\\ngogo.jik(gogo,\"bkbkb\")',\n",
       "  'def singleton(cls, *args, **kargs):\\n    instens = []\\n    def _single():\\n        if cls not in instens:\\n            instens[cls] = cls(*args, **kargs)\\n        return instens[cls]\\n    return _single\\n\\n@singleton\\nclass biubiu:\\n    def __init__(self):\\n        print(\"create biubiu\")\\n        \\nbi = biubiu()',\n",
       "  'def singleton(cls, *args, **kargs):\\n    instens = {}\\n    def _single():\\n        if cls not in instens:\\n            instens[cls] = cls(*args, **kargs)\\n        return instens[cls]\\n    return _single\\n\\n@singleton\\nclass biubiu:\\n    def __init__(self):\\n        print(\"create biubiu\")\\n        \\nbi = biubiu()',\n",
       "  'def singleton(cls, *args, **kargs):\\n    instens = {}\\n    def _single():\\n        if cls not in instens:\\n            instens[cls] = cls(*args, **kargs)\\n            print(\"args\",args,\" kargs:\",kargs)\\n        return instens[cls]\\n    return _single\\n\\n@singleton\\nclass biubiu:\\n    def __init__(self):\\n        print(\"create biubiu\")\\n        \\nbi = biubiu()',\n",
       "  'def singleton(cls, *args, **kargs):\\n    instens = {}\\n    def _single():\\n        if cls not in instens:\\n            instens[cls] = cls(*args, **kargs)\\n            print(\"args\",args,\" kargs:\",kargs)\\n        return instens[cls]\\n    return _single\\n\\n@singleton\\nclass biubiu:\\n    def __init__(self,name):\\n        print(\"create biubiu,name is :\",name)\\n        \\nbi = biubiu(\\'jack\\')',\n",
       "  'def singleton(cls, *args, **kargs):\\n    instens = {}\\n    def _single(*args, **kargs):\\n        if cls not in instens:\\n            instens[cls] = cls(*args, **kargs)\\n            print(\"args\",args,\" kargs:\",kargs)\\n        return instens[cls]\\n    return _single\\n\\n@singleton\\nclass biubiu:\\n    def __init__(self,name):\\n        print(\"create biubiu,name is :\",name)\\n        \\nbi = biubiu(\\'jack\\')',\n",
       "  'def singleton(cls, *args, **kargs):\\n    instens = {}\\n    def _single(*args, **kargs):\\n        if cls not in instens:\\n            instens[cls] = cls(*args, **kargs)\\n            print(\"args\",args,\" kargs:\",kargs)\\n        return instens[cls]\\n    return _single\\n\\n@singleton\\nclass biubiu:\\n    def __init__(self,name,kong=\"kongkong\"):\\n        print(\"create biubiu,name is :\",name,\"kong=\",kong)\\n        \\nbi = biubiu(\\'jack\\')',\n",
       "  'def singleton(cls, *args, **kargs):\\n    instens = {}\\n    def _single(*args, **kargs):\\n        if cls not in instens:\\n            instens[cls] = cls(*args, **kargs)\\n            print(\"args\",args,\" kargs:\",kargs)\\n        return instens[cls]\\n    return _single\\n\\n@singleton\\nclass biubiu:\\n    def __init__(self,name,kong=\"kongkong\"):\\n        print(\"create biubiu,name is :\",name,\", kong=\",kong)\\n        \\nbi = biubiu(\\'jack\\')',\n",
       "  'def singleton(cls, *args, **kargs):\\n    instens = {}\\n    def _single(*args, **kargs):\\n        if cls not in instens:\\n            instens[cls] = cls(*args, **kargs)\\n            print(\"args\",args,\" kargs:\",kargs)\\n        return instens[cls]\\n    return _single\\n\\n@singleton\\nclass biubiu:\\n    def __init__(self,name,kong=\"kongkong\"):\\n        print(\"create biubiu,name is :\",name,\", kong=\",kong)\\n        \\nbi = biubiu(\\'jack\\', kong=\"koe\")',\n",
       "  'def singleton(cls, *args, **kargs):\\n    instens = {}\\n    def _single(*args, **kargs):\\n        if cls not in instens:\\n            instens[cls] = cls(*args, **kargs)\\n            print(\"args\",args,\" kargs:\",kargs)\\n        return instens[cls]\\n    return _single\\n\\n@singleton\\nclass biubiu:\\n    def __init__(self,name,kong=\"kongkong\"):\\n        print(\"create biubiu,name is :\",name,\", kong=\",kong)\\n        self.name = name\\n        self.kong = kong\\n    \\n    def __str__(self):\\n        return \"name=\" + name + \", kong = \" + kong\\nbi = biubiu(\\'jack\\', kong=\"koe\")\\nai = biubiu(\\'jack\\', kong=\"koe\")\\nprint()',\n",
       "  'def singleton(cls, *args, **kargs):\\n    instens = {}\\n    def _single(*args, **kargs):\\n        if cls not in instens:\\n            instens[cls] = cls(*args, **kargs)\\n            print(\"args\",args,\" kargs:\",kargs)\\n        return instens[cls]\\n    return _single\\n\\n@singleton\\nclass biubiu:\\n    def __init__(self,name,kong=\"kongkong\"):\\n        print(\"create biubiu,name is :\",name,\", kong=\",kong)\\n        self.name = name\\n        self.kong = kong\\n    \\n    def __str__(self):\\n        return \"name=\" + name + \", kong = \" + kong\\nbi = biubiu(\\'jack\\', kong=\"koe\")\\nai = biubiu(\\'jack\\', kong=\"koe\")\\nprint(bi)\\nprint(ai)',\n",
       "  'def singleton(cls, *args, **kargs):\\n    instens = {}\\n    def _single(*args, **kargs):\\n        if cls not in instens:\\n            instens[cls] = cls(*args, **kargs)\\n            print(\"args\",args,\" kargs:\",kargs)\\n        return instens[cls]\\n    return _single\\n\\n@singleton\\nclass biubiu:\\n    def __init__(self,name,kong=\"kongkong\"):\\n        print(\"create biubiu,name is :\",name,\", kong=\",kong)\\n        self.name = name\\n        self.kong = kong\\n    \\n    def __str__(self):\\n        return \"name=\" + self.name + \", kong = \" + self.kong\\nbi = biubiu(\\'jack\\', kong=\"koe\")\\nai = biubiu(\\'jack\\', kong=\"koe\")\\nprint(bi)\\nprint(ai)',\n",
       "  'def singleton(cls, *args, **kargs):\\n    instens = {}\\n    def _single(*args, **kargs):\\n        if cls not in instens:\\n            instens[cls] = cls(*args, **kargs)\\n            print(\"args\",args,\" kargs:\",kargs)\\n        return instens[cls]\\n    return _single\\n\\n@singleton\\nclass biubiu:\\n    def __init__(self,name,kong=\"kongkong\"):\\n        print(\"create biubiu,name is :\",name,\", kong=\",kong)\\n        self.name = name\\n        self.kong = kong\\n    \\n    def __str__(self):\\n        return \"name=\" + self.name + \", kong = \" + self.kong\\nbi = biubiu(\\'jack\\', kong=\"koe\")\\nai = biubiu(\\'zkk\\', kong=\"loi\")\\nprint(bi)\\nprint(ai)',\n",
       "  'def singleton(cls, *args, **kargs):\\n    instens = {}\\n    def _single(*args, **kargs):\\n        if cls not in instens:\\n            instens[cls] = cls(*args, **kargs)\\n            print(\"args\",args,\" kargs:\",kargs)\\n        else:\\n            instens[cls] = cls(*args, **kargs)\\n        return instens[cls]\\n    return _single\\n\\n@singleton\\nclass biubiu:\\n    def __init__(self,name,kong=\"kongkong\"):\\n        print(\"create biubiu,name is :\",name,\", kong=\",kong)\\n        self.name = name\\n        self.kong = kong\\n    \\n    def __str__(self):\\n        return \"name=\" + self.name + \", kong = \" + self.kong\\nbi = biubiu(\\'jack\\', kong=\"koe\")\\nai = biubiu(\\'zkk\\', kong=\"loi\")\\nprint(bi)\\nprint(ai)',\n",
       "  'def singleton(cls, *args, **kargs):\\n    instens = {}\\n    def _single(*args, **kargs):\\n        if cls not in instens:\\n            instens[cls] = cls(*args, **kargs)\\n            print(\"args\",args,\" kargs:\",kargs)\\n        else:\\n            instens[cls] = cls(*args, **kargs)\\n        return instens[cls]\\n    return _single\\n\\n@singleton\\nclass biubiu:\\n    def __init__(self,name,kong=\"kongkong\"):\\n        print(\"create biubiu,name is :\",name,\", kong=\",kong)\\n        self.name = name\\n        self.kong = kong\\n    \\n    def __str__(self):\\n        return \"name=\" + self.name + \", kong = \" + self.kong\\nbi = biubiu(\\'jack\\', kong=\"koe\")\\nai = biubiu(\\'zkk\\', kong=\"loi\")\\nprint(bi)\\nprint(ai, bi==ai)',\n",
       "  'def singleton(cls, *args, **kargs):\\n    instens = {}\\n    def _single(*args, **kargs):\\n        if cls not in instens:\\n            instens[cls] = cls(*args, **kargs)\\n            print(\"args\",args,\" kargs:\",kargs)\\n        #else:\\n        #    instens[cls] = cls(*args, **kargs)\\n        return instens[cls]\\n    return _single\\n\\n@singleton\\nclass biubiu:\\n    def __init__(self,name,kong=\"kongkong\"):\\n        print(\"create biubiu,name is :\",name,\", kong=\",kong)\\n        self.name = name\\n        self.kong = kong\\n    \\n    def __str__(self):\\n        return \"name=\" + self.name + \", kong = \" + self.kong\\nbi = biubiu(\\'jack\\', kong=\"koe\")\\nai = biubiu(\\'zkk\\', kong=\"loi\")\\nprint(bi)\\nprint(ai, bi==ai)',\n",
       "  'def singleton(cls, *args, **kargs):\\n    instens = {}\\n    def _single(*args, **kargs):\\n        if cls not in instens:\\n            #instens[cls] = cls(*args, **kargs)\\n            print(\"args\",args,\" kargs:\",kargs)\\n        #else:\\n        #    instens[cls] = cls(*args, **kargs)\\n        return \"haha you are wrong\"\\n    return _single\\n\\n@singleton\\nclass biubiu:\\n    def __init__(self,name,kong=\"kongkong\"):\\n        print(\"create biubiu,name is :\",name,\", kong=\",kong)\\n        self.name = name\\n        self.kong = kong\\n    \\n    def __str__(self):\\n        return \"name=\" + self.name + \", kong = \" + self.kong\\nbi = biubiu(\\'jack\\', kong=\"koe\")\\nai = biubiu(\\'zkk\\', kong=\"loi\")\\nprint(bi)\\nprint(ai, bi==ai)',\n",
       "  'def singleton(cls, *args, **kargs):\\n    instens = {}\\n    def _single(*args, **kargs):\\n        if cls not in instens:\\n            instens[cls] = cls(*args, **kargs)\\n            print(\"args\",args,\" kargs:\",kargs)\\n        #else:\\n        #    instens[cls] = cls(*args, **kargs)\\n        return instens[cls]\\n    return _single\\n\\ndef selfcor(*args):\\n    print(\"haha yes\")\\n\\n@selfcor\\ndef fuc():\\n    print(\"don\\'t take a chance!\")\\n    \\n@singleton\\nclass biubiu:\\n    def __init__(self,name,kong=\"kongkong\"):\\n        print(\"create biubiu,name is :\",name,\", kong=\",kong)\\n        self.name = name\\n        self.kong = kong\\n    \\n    def __str__(self):\\n        return \"name=\" + self.name + \", kong = \" + self.kong\\n\\nbi = biubiu(\\'jack\\', kong=\"koe\")\\nai = biubiu(\\'zkk\\', kong=\"loi\")\\nprint(bi)\\nprint(ai, bi==ai)\\n\\nfuc()',\n",
       "  'def singleton(cls, *args, **kargs):\\n    instens = {}\\n    def _single(*args, **kargs):\\n        if cls not in instens:\\n            instens[cls] = cls(*args, **kargs)\\n            print(\"args\",args,\" kargs:\",kargs)\\n        #else:\\n        #    instens[cls] = cls(*args, **kargs)\\n        return instens[cls]\\n    return _single\\n\\ndef selfcor(*args):\\n    return print(\"haha yes\")\\n\\n@selfcor\\ndef fuc():\\n    print(\"don\\'t take a chance!\")\\n    \\n@singleton\\nclass biubiu:\\n    def __init__(self,name,kong=\"kongkong\"):\\n        print(\"create biubiu,name is :\",name,\", kong=\",kong)\\n        self.name = name\\n        self.kong = kong\\n    \\n    def __str__(self):\\n        return \"name=\" + self.name + \", kong = \" + self.kong\\n\\nbi = biubiu(\\'jack\\', kong=\"koe\")\\nai = biubiu(\\'zkk\\', kong=\"loi\")\\nprint(bi)\\nprint(ai, bi==ai)\\n\\nfuc()',\n",
       "  'def singleton(cls, *args, **kargs):\\n    instens = {}\\n    def _single(*args, **kargs):\\n        if cls not in instens:\\n            instens[cls] = cls(*args, **kargs)\\n            print(\"args\",args,\" kargs:\",kargs)\\n        #else:\\n        #    instens[cls] = cls(*args, **kargs)\\n        return instens[cls]\\n    return _single\\n\\ndef selfcor(*args):\\n    return print\\n\\n@selfcor\\ndef fuc():\\n    print(\"don\\'t take a chance!\")\\n    \\n@singleton\\nclass biubiu:\\n    def __init__(self,name,kong=\"kongkong\"):\\n        print(\"create biubiu,name is :\",name,\", kong=\",kong)\\n        self.name = name\\n        self.kong = kong\\n    \\n    def __str__(self):\\n        return \"name=\" + self.name + \", kong = \" + self.kong\\n\\nbi = biubiu(\\'jack\\', kong=\"koe\")\\nai = biubiu(\\'zkk\\', kong=\"loi\")\\nprint(bi)\\nprint(ai, bi==ai)\\n\\nfuc()',\n",
       "  'def singleton(cls, *args, **kargs):\\n    instens = {}\\n    def _single(*args, **kargs):\\n        if cls not in instens:\\n            instens[cls] = cls(*args, **kargs)\\n            print(\"args\",args,\" kargs:\",kargs)\\n        #else:\\n        #    instens[cls] = cls(*args, **kargs)\\n        return instens[cls]\\n    return _single\\n\\ndef selfcor(*args):\\n    return print\\n\\n@selfcor\\ndef fuc(a):\\n    print(\"don\\'t take a chance!\")\\n    \\n@singleton\\nclass biubiu:\\n    def __init__(self,name,kong=\"kongkong\"):\\n        print(\"create biubiu,name is :\",name,\", kong=\",kong)\\n        self.name = name\\n        self.kong = kong\\n    \\n    def __str__(self):\\n        return \"name=\" + self.name + \", kong = \" + self.kong\\n\\nbi = biubiu(\\'jack\\', kong=\"koe\")\\nai = biubiu(\\'zkk\\', kong=\"loi\")\\nprint(bi)\\nprint(ai, bi==ai)\\n\\nfuc(\\'df\\')',\n",
       "  'def singleton(cls, *args, **kargs):\\n    instens = {}\\n    def _single(*args, **kargs):\\n        if cls not in instens:\\n            instens[cls] = cls(*args, **kargs)\\n            print(\"args\",args,\" kargs:\",kargs)\\n        #else:\\n        #    instens[cls] = cls(*args, **kargs)\\n        return instens[cls]\\n    return _single\\n\\ndef selfcor(fuc, *args):\\n    return fuc\\n\\n@selfcor\\ndef fuc(a):\\n    print(\"don\\'t take a chance!\")\\n    \\n@singleton\\nclass biubiu:\\n    def __init__(self,name,kong=\"kongkong\"):\\n        print(\"create biubiu,name is :\",name,\", kong=\",kong)\\n        self.name = name\\n        self.kong = kong\\n    \\n    def __str__(self):\\n        return \"name=\" + self.name + \", kong = \" + self.kong\\n\\nbi = biubiu(\\'jack\\', kong=\"koe\")\\nai = biubiu(\\'zkk\\', kong=\"loi\")\\nprint(bi)\\nprint(ai, bi==ai)\\n\\nfuc(\\'df\\')',\n",
       "  'import copy\\na = [1,2]\\nb = [3,4]\\nc = [a,b]\\nd = c[:]\\nprint(d)\\na[1] = 3\\nprint(d)',\n",
       "  'import copy\\na = [1,2]\\nb = [3,4]\\nc = [a,b]\\nd = list(c)\\nprint(d)\\na[1] = 3\\nprint(d)',\n",
       "  'import copy\\na = [1,2]\\nb = [3,4]\\nc = [a,b]\\nd = copy.deepcopy(c)\\nprint(d)\\na[1] = 3\\nprint(d)',\n",
       "  'import copy\\na = [1,2]\\nb = [3,4]\\nc = [a,b]\\ne = [c]\\nd = copy.deepcopy(e)\\nprint(d)\\na[1] = 3\\nprint(d)',\n",
       "  'import copy\\na = [1,2]\\nb = [3,4]\\nc = [a,b]\\nd = copy.deepcopy(c)\\nprint(d)\\na[1] = 3\\nprint(d)',\n",
       "  'import copy\\na = [1,2]\\nb = [3,4]\\nc = [a,b]\\nd = copy.deepcopy(c)\\nprint(d)\\na[1] = 3\\nprint(d)\\n\\nclass forcopy:\\n    def __init__(self, a):\\n        self.a = a\\n\\nclass copythis:\\n    def __init__(self.b):\\n        self.b = b\\n\\na = forcopy(\"ass\")\\nb = copythis(a)\\n\\nc = copy.deepcopy(b)\\n\\nprint(c == b)\\nprint(c.b == b.b)',\n",
       "  'import copy\\na = [1,2]\\nb = [3,4]\\nc = [a,b]\\nd = copy.deepcopy(c)\\nprint(d)\\na[1] = 3\\nprint(d)\\n\\nclass forcopy:\\n    def __init__(self, a):\\n        self.a = a\\n\\nclass copythis:\\n    def __init__(self,b):\\n        self.b = b\\n\\na = forcopy(\"ass\")\\nb = copythis(a)\\n\\nc = copy.deepcopy(b)\\n\\nprint(c == b)\\nprint(c.b == b.b)',\n",
       "  'import copy\\na = [1,2]\\nb = [3,4]\\nc = [a,b]\\nd = copy.deepcopy(c)\\nprint(d)\\na[1] = 3\\nprint(d)\\n\\nclass forcopy:\\n    def __init__(self, a):\\n        self.a = a\\n\\nclass copythis:\\n    def __init__(self,b):\\n        self.b = b\\n\\na = forcopy(\"ass\")\\nb = copythis(a)\\n\\nc = copy.deepcopy(b)\\n\\nprint(c == b)\\nprint(c.b.a, b.b,a)',\n",
       "  'import copy\\na = [1,2]\\nb = [3,4]\\nc = [a,b]\\nd = copy.deepcopy(c)\\nprint(d)\\na[1] = 3\\nprint(d)\\n\\nclass forcopy:\\n    def __init__(self, a):\\n        self.a = a\\n\\nclass copythis:\\n    def __init__(self,b):\\n        self.b = b\\n\\na = forcopy(\"ass\")\\nb = copythis(a)\\n\\nc = copy.deepcopy(b)\\n\\nprint(c == b)\\nprint(c.b.a, b.b.a)',\n",
       "  'import copy\\na = [1,2]\\nb = [3,4]\\nc = [a,b]\\nd = copy.deepcopy(c)\\nprint(d)\\na[1] = 3\\nprint(d)\\n\\nclass forcopy:\\n    def __init__(self, a):\\n        self.a = a\\n        print(\"create a\")\\n\\nclass copythis:\\n    def __init__(self,b):\\n        self.b = b\\n\\na = forcopy(\"ass\")\\nb = copythis(a)\\n\\nc = copy.deepcopy(b)\\n\\nprint(c == b)\\nprint(c.b.a, b.b.a)',\n",
       "  'import copy\\na = [1,2]\\nb = [3,4]\\nc = [a,b]\\nd = copy.deepcopy(c)\\nprint(d)\\na[1] = 3\\nprint(d)\\n\\nclass forcopy:\\n    def __init__(self, a):\\n        self.a = a\\n\\nclass copythis:\\n    def __init__(self,b):\\n        self.b = b\\n\\na = forcopy(\"ass\")\\nb = copythis(a)\\n\\nc = copy.deepcopy(b)\\n\\nprint(c == b)\\na.a = \"keo\"\\nprint(c.b.a, b.b.a)',\n",
       "  \"def simple_decorator(decorator):\\n    '''This decorator can be used to turn simple functions\\n    into well-behaved decorators, so long as the decorators\\n    are fairly simple. If a decorator expects a function and\\n    returns a function (no descriptors), and if it doesn't\\n    modify function attributes or docstring, then it is\\n    eligible to use this. Simply apply @simple_decorator to\\n    your decorator and it will automatically preserve the\\n    docstring and function attributes of functions to which\\n    it is applied.'''\\n    def new_decorator(f):\\n        g = decorator(f)\\n        g.__name__ = f.__name__\\n        g.__doc__ = f.__doc__\\n        g.__dict__.update(f.__dict__)\\n        return g\\n    # Now a few lines needed to make simple_decorator itself\\n    # be a well-behaved decorator.\\n    new_decorator.__name__ = decorator.__name__\\n    new_decorator.__doc__ = decorator.__doc__\\n    new_decorator.__dict__.update(decorator.__dict__)\\n    return new_decorator\\n\\n#\\n# Sample Use:\\n#\\n@simple_decorator\\ndef my_simple_logging_decorator(func):\\n    def you_will_never_see_this_name(*args, **kwargs):\\n        print 'calling {}'.format(func.__name__)\\n        return func(*args, **kwargs)\\n    return you_will_never_see_this_name\\n\\n@my_simple_logging_decorator\\ndef double(x):\\n    'Doubles a number.'\\n    return 2 * x\\n\\nassert double.__name__ == 'double'\\nassert double.__doc__ == 'Doubles a number.'\\nprint double(155)\",\n",
       "  \"def simple_decorator(decorator):\\n    '''This decorator can be used to turn simple functions\\n    into well-behaved decorators, so long as the decorators\\n    are fairly simple. If a decorator expects a function and\\n    returns a function (no descriptors), and if it doesn't\\n    modify function attributes or docstring, then it is\\n    eligible to use this. Simply apply @simple_decorator to\\n    your decorator and it will automatically preserve the\\n    docstring and function attributes of functions to which\\n    it is applied.'''\\n    def new_decorator(f):\\n        g = decorator(f)\\n        g.__name__ = f.__name__\\n        g.__doc__ = f.__doc__\\n        g.__dict__.update(f.__dict__)\\n        return g\\n    # Now a few lines needed to make simple_decorator itself\\n    # be a well-behaved decorator.\\n    new_decorator.__name__ = decorator.__name__\\n    new_decorator.__doc__ = decorator.__doc__\\n    new_decorator.__dict__.update(decorator.__dict__)\\n    return new_decorator\\n\\n#\\n# Sample Use:\\n#\\n@simple_decorator\\ndef my_simple_logging_decorator(func):\\n    def you_will_never_see_this_name(*args, **kwargs):\\n        print ('calling {}'.format(func.__name__))\\n        return func(*args, **kwargs)\\n    return you_will_never_see_this_name\\n\\n@my_simple_logging_decorator\\ndef double(x):\\n    'Doubles a number.'\\n    return 2 * x\\n\\nassert double.__name__ == 'double'\\nassert double.__doc__ == 'Doubles a number.'\\nprint double(155)\",\n",
       "  \"def simple_decorator(decorator):\\n    '''This decorator can be used to turn simple functions\\n    into well-behaved decorators, so long as the decorators\\n    are fairly simple. If a decorator expects a function and\\n    returns a function (no descriptors), and if it doesn't\\n    modify function attributes or docstring, then it is\\n    eligible to use this. Simply apply @simple_decorator to\\n    your decorator and it will automatically preserve the\\n    docstring and function attributes of functions to which\\n    it is applied.'''\\n    def new_decorator(f):\\n        g = decorator(f)\\n        g.__name__ = f.__name__\\n        g.__doc__ = f.__doc__\\n        g.__dict__.update(f.__dict__)\\n        return g\\n    # Now a few lines needed to make simple_decorator itself\\n    # be a well-behaved decorator.\\n    new_decorator.__name__ = decorator.__name__\\n    new_decorator.__doc__ = decorator.__doc__\\n    new_decorator.__dict__.update(decorator.__dict__)\\n    return new_decorator\\n\\n#\\n# Sample Use:\\n#\\n@simple_decorator\\ndef my_simple_logging_decorator(func):\\n    def you_will_never_see_this_name(*args, **kwargs):\\n        print ('calling {}'.format(func.__name__))\\n        return func(*args, **kwargs)\\n    return you_will_never_see_this_name\\n\\n@my_simple_logging_decorator\\ndef double(x):\\n    'Doubles a number.'\\n    return 2 * x\\n\\nassert double.__name__ == 'double'\\nassert double.__doc__ == 'Doubles a number.'\\nprint (double(155))\",\n",
       "  'def func():\\n    \\'increadiable\\'\\n    print(\"hehe only print?\")\\nfunc()',\n",
       "  'def func():\\n    \\'increadiable\\'\\n    print(\"hehe only print?\")\\nfunc()\\nprint(func.__doc__)',\n",
       "  'def func():\\n    \\'increadiable\\'\\n    \\'but no end\\'\\n    print(\"hehe only print?\")\\nfunc()\\nprint(func.__doc__)',\n",
       "  'def func():\\n    \\'increadiable\\'    \\'but no end\\'\\n    print(\"hehe only print?\")\\nfunc()\\nprint(func.__doc__)',\n",
       "  'def func():\\n    \\'increadiable\\'\\n    \\'but no end\\'\\n    print(\"hehe only print?\")\\nfunc()\\nprint(func.__doc__)\\nprint(func.__repr__)',\n",
       "  'def func():\\n    \\'increadiable\\'\\n    \\'but no end\\'\\n    print(\"hehe only print?\")\\nfunc()\\nprint(func.__doc__)\\nprint(func.__repr__())',\n",
       "  'def func():\\n    \\'increadiable\\'\\n    \\'but no end\\'\\n    print(\"hehe only print?\")\\nfunc()\\nprint(func.__doc__)\\nprint(func.ascii())',\n",
       "  'def func():\\n    \\'increadiable\\'\\n    \\'but no end\\'\\n    print(\"hehe only print?\")\\nfunc()\\nprint(func.__doc__)\\n\\nclass gogo:\\n    def __init__(self, name):\\n        self.name = name\\n        print(\"gogo\" + name)\\n\\ngo1 = gogo(\"mym\")\\ndelattr(go1, name)',\n",
       "  'def func():\\n    \\'increadiable\\'\\n    \\'but no end\\'\\n    print(\"hehe only print?\")\\nfunc()\\nprint(func.__doc__)\\n\\nclass gogo:\\n    def __init__(self, name):\\n        self.name = name\\n        print(\"gogo\" + name)\\n\\ngo1 = gogo(\"mym\")\\ndelattr(go1, \\'name\\')',\n",
       "  'def func():\\n    \\'increadiable\\'\\n    \\'but no end\\'\\n    print(\"hehe only print?\")\\nfunc()\\nprint(func.__doc__)\\n\\nclass gogo:\\n    def __init__(self, name):\\n        self.name = name\\n        print(\"gogo \" + name)\\n\\ngo1 = gogo(\"mym\")\\ndelattr(go1, \\'name\\')\\ndel go1.name',\n",
       "  'def func():\\n    \\'increadiable\\'\\n    \\'but no end\\'\\n    print(\"hehe only print?\")\\nfunc()\\nprint(func.__doc__)\\n\\nclass gogo:\\n    def __init__(self, name):\\n        self.name = name\\n        print(\"gogo \" + name)\\n\\ngo1 = gogo(\"mym\")\\ndel go1.name\\ndelattr(go1, \\'name\\')',\n",
       "  'def func():\\n    \\'increadiable\\'\\n    \\'but no end\\'\\n    print(\"hehe only print?\")\\nfunc()\\nprint(func.__doc__)\\n\\nclass gogo:\\n    def __init__(self, name):\\n        self.name = name\\n        print(\"gogo \" + name)\\n\\ngo1 = gogo(\"mym\")\\ndel go1.name\\n#delattr(go1, \\'name\\')',\n",
       "  'divmod(1,4)',\n",
       "  'divmod(11,4)',\n",
       "  'divmod(11.3,4)',\n",
       "  'type(divmod(11.3,4)[1])',\n",
       "  'divmod(11.3,4)[1]',\n",
       "  'print(locals())',\n",
       "  'print(globals())',\n",
       "  \"print(eval('_i65 + _i65'))\",\n",
       "  \"print(eval('globels(_i65)'))\",\n",
       "  \"print(eval('globel(_i65)'))\",\n",
       "  \"print(eval('locale(_i65)'))\",\n",
       "  \"print(eval('locale()[_i65]'))\",\n",
       "  \"print(eval('locale'))\",\n",
       "  \"print(eval('_i65'))\",\n",
       "  \"print(eval('_i65'))\\nglobels()\",\n",
       "  \"print(eval('_i65'))\\nglobals()\",\n",
       "  \"print(eval('_i65'))\\nglobals()\\nlocale()\",\n",
       "  \"print(eval('_i65'))\\nglobals()\\nlocals()\"],\n",
       " 'Out': {3: True,\n",
       "  4: False,\n",
       "  5: True,\n",
       "  6: 1,\n",
       "  61: (0, 1),\n",
       "  62: (2, 3),\n",
       "  63: (2.0, 3.3000000000000007),\n",
       "  64: float,\n",
       "  65: 3.3000000000000007,\n",
       "  76: {...}},\n",
       " '_': {...},\n",
       " '_3': True,\n",
       " '_4': False,\n",
       " '_5': True,\n",
       " '_6': 1,\n",
       " '_61': (0, 1),\n",
       " '_62': (2, 3),\n",
       " '_63': (2.0, 3.3000000000000007),\n",
       " '_64': float,\n",
       " '_65': 3.3000000000000007,\n",
       " '_76': {...},\n",
       " '__': 3.3000000000000007,\n",
       " '___': float,\n",
       " '__builtin__': <module 'builtins' (built-in)>,\n",
       " '__builtins__': <module 'builtins' (built-in)>,\n",
       " '__doc__': 'Automatically created module for IPython interactive environment',\n",
       " '__loader__': None,\n",
       " '__name__': '__main__',\n",
       " '__package__': None,\n",
       " '__spec__': None,\n",
       " '_dh': ['F:\\\\studycode\\\\micStudy\\\\micStudy\\\\pythondesign'],\n",
       " '_i': \"print(eval('_i65'))\\nglobals()\\nlocale()\",\n",
       " '_i1': 'import threading as td\\nfrom time import ctime, sleep\\n\\ndef makemoney(name):\\n    sleep(1)\\n\\n    global money\\n    global mademoney\\n    while True:\\n        if mademoney >= 2000:\\n            print(\"commision complete, bye!\")\\n            cond.acquire()\\n            cond.wait()\\n            cond.release()\\n            break\\n        else:\\n            if money < 700:\\n                if money > 100:\\n                    cond.acquire()\\n                    cond.notify()\\n                    cond.release()\\n                sleep(0.2)\\n                money+=100\\n                mademoney += 100\\n                print(\"{} make 100 money, resave:{} yuan, already spent:{}\".format(name, money, spentmoney))\\n                cond.acquire()\\n                cond.notify()\\n                cond.release()\\n            else:\\n                cond.acquire()\\n                print(\"wait to make money ...\")\\n                cond.wait()\\n                cond.release()\\n\\ndef spendmoney(name):\\n\\n    global money\\n    global spentmoney\\n\\n    while True:\\n        if spentmoney >= 2000:\\n            print(\"spend money is happy! bye!\")\\n            cond.acquire()\\n            cond.notify()\\n            cond.release()\\n            break\\n        else:\\n            if money < 100:\\n                print(\"wait money to spend ...\")\\n                cond.acquire()\\n                cond.notify()\\n                cond.wait()\\n                cond.release()\\n            else:\\n                if money < 700:\\n                    cond.acquire()\\n                    cond.notify()\\n                    cond.release()\\n                sleep(0.5)\\n                money -= 100\\n                spentmoney += 100\\n                print(\"{} spend 100 money, resave:{} yuan, already spent:{}\".format(name, money, spentmoney))       \\n                \\n    \\n\\n    \\nmine = td.Thread(target=makemoney,args=(\"me,me!\",))\\nmygf = td.Thread(target=spendmoney,args=(\"lao,po!\",))\\n\\nmoney=0\\nspentmoney=0\\nmademoney=0\\ncond = td.Condition()\\nmine.start()\\nmygf.start()\\nmine.join()\\nmygf.join()\\n\\nprint(\"all great!bye!\")',\n",
       " '_i10': 'def fn(self, name):\\n    print(\"my name is :\", name)\\n\\nprnam = type(\\'prt\\', (object,), dict(hello=fn))\\nprnam.hello(prnam,\"god\")',\n",
       " '_i11': 'def fn(self, name):\\n    print(\"my name is :\", name)\\n\\nprnam = type(\\'prt\\', (object,), dict(hello=fn))\\nprnam.hello(object,\"god\")',\n",
       " '_i12': 'def fn(self, name):\\n    print(\"my name is :\", name)\\n\\nprnam = type(\\'prt\\', (object,), dict(hello=fn))\\npr = prnam()\\npr.hello(\"god\")',\n",
       " '_i13': 'def fn(self, name):\\n    print(\"my name is :\", name)\\n\\nprnam = type(\\'prt\\', (object,), dict(hello=fn))\\npr = prnam()\\npr.hello(\"god\")\\n\\nclass gogo:\\n    def jik(self, name):\\n        print(\"gogo\" + name)\\ngogo.jik(gogo,\"bkbkb\")',\n",
       " '_i14': 'def singleton(cls, *args, **kargs):\\n    instens = []\\n    def _single():\\n        if cls not in instens:\\n            instens[cls] = cls(*args, **kargs)\\n        return instens[cls]\\n    return _single\\n\\n@singleton\\nclass biubiu:\\n    def __init__(self):\\n        print(\"create biubiu\")\\n        \\nbi = biubiu()',\n",
       " '_i15': 'def singleton(cls, *args, **kargs):\\n    instens = {}\\n    def _single():\\n        if cls not in instens:\\n            instens[cls] = cls(*args, **kargs)\\n        return instens[cls]\\n    return _single\\n\\n@singleton\\nclass biubiu:\\n    def __init__(self):\\n        print(\"create biubiu\")\\n        \\nbi = biubiu()',\n",
       " '_i16': 'def singleton(cls, *args, **kargs):\\n    instens = {}\\n    def _single():\\n        if cls not in instens:\\n            instens[cls] = cls(*args, **kargs)\\n            print(\"args\",args,\" kargs:\",kargs)\\n        return instens[cls]\\n    return _single\\n\\n@singleton\\nclass biubiu:\\n    def __init__(self):\\n        print(\"create biubiu\")\\n        \\nbi = biubiu()',\n",
       " '_i17': 'def singleton(cls, *args, **kargs):\\n    instens = {}\\n    def _single():\\n        if cls not in instens:\\n            instens[cls] = cls(*args, **kargs)\\n            print(\"args\",args,\" kargs:\",kargs)\\n        return instens[cls]\\n    return _single\\n\\n@singleton\\nclass biubiu:\\n    def __init__(self,name):\\n        print(\"create biubiu,name is :\",name)\\n        \\nbi = biubiu(\\'jack\\')',\n",
       " '_i18': 'def singleton(cls, *args, **kargs):\\n    instens = {}\\n    def _single(*args, **kargs):\\n        if cls not in instens:\\n            instens[cls] = cls(*args, **kargs)\\n            print(\"args\",args,\" kargs:\",kargs)\\n        return instens[cls]\\n    return _single\\n\\n@singleton\\nclass biubiu:\\n    def __init__(self,name):\\n        print(\"create biubiu,name is :\",name)\\n        \\nbi = biubiu(\\'jack\\')',\n",
       " '_i19': 'def singleton(cls, *args, **kargs):\\n    instens = {}\\n    def _single(*args, **kargs):\\n        if cls not in instens:\\n            instens[cls] = cls(*args, **kargs)\\n            print(\"args\",args,\" kargs:\",kargs)\\n        return instens[cls]\\n    return _single\\n\\n@singleton\\nclass biubiu:\\n    def __init__(self,name,kong=\"kongkong\"):\\n        print(\"create biubiu,name is :\",name,\"kong=\",kong)\\n        \\nbi = biubiu(\\'jack\\')',\n",
       " '_i2': 'import threading as td\\nfrom time import ctime, sleep\\n\\ndef makemoney(name):\\n    sleep(1)\\n\\n    global money\\n    global mademoney\\n    while True:\\n        if mademoney >= 2000:\\n            print(\"commision complete, bye!\")\\n            cond.acquire()\\n            cond.wait()\\n            cond.release()\\n            break\\n        else:\\n            if money < 700:\\n                if money > 100:\\n                    cond.acquire()\\n                    cond.notify()\\n                    cond.release()\\n                sleep(0.2)\\n                money+=100\\n                mademoney += 100\\n                print(\"{} make 100 money, resave:{} yuan, already spent:{},time:{}\".format(name, money, spentmoney,ctime()))\\n                cond.acquire()\\n                cond.notify()\\n                cond.release()\\n            else:\\n                cond.acquire()\\n                print(\"wait to make money ...\")\\n                cond.wait()\\n                cond.release()\\n\\ndef spendmoney(name):\\n\\n    global money\\n    global spentmoney\\n\\n    while True:\\n        if spentmoney >= 2000:\\n            print(\"spend money is happy! bye!\")\\n            cond.acquire()\\n            cond.notify()\\n            cond.release()\\n            break\\n        else:\\n            if money < 100:\\n                print(\"wait money to spend ...\")\\n                cond.acquire()\\n                cond.notify()\\n                cond.wait()\\n                cond.release()\\n            else:\\n                if money < 700:\\n                    cond.acquire()\\n                    cond.notify()\\n                    cond.release()\\n                sleep(0.3)\\n                money -= 100\\n                spentmoney += 100\\n                print(\"{} spend 100 money, resave:{} yuan, already spent:{}:time:{}\".format(name, money, spentmoney,ctime()))       \\n                \\n    \\n\\n    \\nmine = td.Thread(target=makemoney,args=(\"me,me!\",))\\nmygf = td.Thread(target=spendmoney,args=(\"lao,po!\",))\\n\\nmoney=0\\nspentmoney=0\\nmademoney=0\\ncond = td.Condition()\\nmine.start()\\nmygf.start()\\nmine.join()\\nmygf.join()\\n\\nprint(\"all great!bye!\")',\n",
       " '_i20': 'def singleton(cls, *args, **kargs):\\n    instens = {}\\n    def _single(*args, **kargs):\\n        if cls not in instens:\\n            instens[cls] = cls(*args, **kargs)\\n            print(\"args\",args,\" kargs:\",kargs)\\n        return instens[cls]\\n    return _single\\n\\n@singleton\\nclass biubiu:\\n    def __init__(self,name,kong=\"kongkong\"):\\n        print(\"create biubiu,name is :\",name,\", kong=\",kong)\\n        \\nbi = biubiu(\\'jack\\')',\n",
       " '_i21': 'def singleton(cls, *args, **kargs):\\n    instens = {}\\n    def _single(*args, **kargs):\\n        if cls not in instens:\\n            instens[cls] = cls(*args, **kargs)\\n            print(\"args\",args,\" kargs:\",kargs)\\n        return instens[cls]\\n    return _single\\n\\n@singleton\\nclass biubiu:\\n    def __init__(self,name,kong=\"kongkong\"):\\n        print(\"create biubiu,name is :\",name,\", kong=\",kong)\\n        \\nbi = biubiu(\\'jack\\', kong=\"koe\")',\n",
       " '_i22': 'def singleton(cls, *args, **kargs):\\n    instens = {}\\n    def _single(*args, **kargs):\\n        if cls not in instens:\\n            instens[cls] = cls(*args, **kargs)\\n            print(\"args\",args,\" kargs:\",kargs)\\n        return instens[cls]\\n    return _single\\n\\n@singleton\\nclass biubiu:\\n    def __init__(self,name,kong=\"kongkong\"):\\n        print(\"create biubiu,name is :\",name,\", kong=\",kong)\\n        self.name = name\\n        self.kong = kong\\n    \\n    def __str__(self):\\n        return \"name=\" + name + \", kong = \" + kong\\nbi = biubiu(\\'jack\\', kong=\"koe\")\\nai = biubiu(\\'jack\\', kong=\"koe\")\\nprint()',\n",
       " '_i23': 'def singleton(cls, *args, **kargs):\\n    instens = {}\\n    def _single(*args, **kargs):\\n        if cls not in instens:\\n            instens[cls] = cls(*args, **kargs)\\n            print(\"args\",args,\" kargs:\",kargs)\\n        return instens[cls]\\n    return _single\\n\\n@singleton\\nclass biubiu:\\n    def __init__(self,name,kong=\"kongkong\"):\\n        print(\"create biubiu,name is :\",name,\", kong=\",kong)\\n        self.name = name\\n        self.kong = kong\\n    \\n    def __str__(self):\\n        return \"name=\" + name + \", kong = \" + kong\\nbi = biubiu(\\'jack\\', kong=\"koe\")\\nai = biubiu(\\'jack\\', kong=\"koe\")\\nprint(bi)\\nprint(ai)',\n",
       " '_i24': 'def singleton(cls, *args, **kargs):\\n    instens = {}\\n    def _single(*args, **kargs):\\n        if cls not in instens:\\n            instens[cls] = cls(*args, **kargs)\\n            print(\"args\",args,\" kargs:\",kargs)\\n        return instens[cls]\\n    return _single\\n\\n@singleton\\nclass biubiu:\\n    def __init__(self,name,kong=\"kongkong\"):\\n        print(\"create biubiu,name is :\",name,\", kong=\",kong)\\n        self.name = name\\n        self.kong = kong\\n    \\n    def __str__(self):\\n        return \"name=\" + self.name + \", kong = \" + self.kong\\nbi = biubiu(\\'jack\\', kong=\"koe\")\\nai = biubiu(\\'jack\\', kong=\"koe\")\\nprint(bi)\\nprint(ai)',\n",
       " '_i25': 'def singleton(cls, *args, **kargs):\\n    instens = {}\\n    def _single(*args, **kargs):\\n        if cls not in instens:\\n            instens[cls] = cls(*args, **kargs)\\n            print(\"args\",args,\" kargs:\",kargs)\\n        return instens[cls]\\n    return _single\\n\\n@singleton\\nclass biubiu:\\n    def __init__(self,name,kong=\"kongkong\"):\\n        print(\"create biubiu,name is :\",name,\", kong=\",kong)\\n        self.name = name\\n        self.kong = kong\\n    \\n    def __str__(self):\\n        return \"name=\" + self.name + \", kong = \" + self.kong\\nbi = biubiu(\\'jack\\', kong=\"koe\")\\nai = biubiu(\\'zkk\\', kong=\"loi\")\\nprint(bi)\\nprint(ai)',\n",
       " '_i26': 'def singleton(cls, *args, **kargs):\\n    instens = {}\\n    def _single(*args, **kargs):\\n        if cls not in instens:\\n            instens[cls] = cls(*args, **kargs)\\n            print(\"args\",args,\" kargs:\",kargs)\\n        else:\\n            instens[cls] = cls(*args, **kargs)\\n        return instens[cls]\\n    return _single\\n\\n@singleton\\nclass biubiu:\\n    def __init__(self,name,kong=\"kongkong\"):\\n        print(\"create biubiu,name is :\",name,\", kong=\",kong)\\n        self.name = name\\n        self.kong = kong\\n    \\n    def __str__(self):\\n        return \"name=\" + self.name + \", kong = \" + self.kong\\nbi = biubiu(\\'jack\\', kong=\"koe\")\\nai = biubiu(\\'zkk\\', kong=\"loi\")\\nprint(bi)\\nprint(ai)',\n",
       " '_i27': 'def singleton(cls, *args, **kargs):\\n    instens = {}\\n    def _single(*args, **kargs):\\n        if cls not in instens:\\n            instens[cls] = cls(*args, **kargs)\\n            print(\"args\",args,\" kargs:\",kargs)\\n        else:\\n            instens[cls] = cls(*args, **kargs)\\n        return instens[cls]\\n    return _single\\n\\n@singleton\\nclass biubiu:\\n    def __init__(self,name,kong=\"kongkong\"):\\n        print(\"create biubiu,name is :\",name,\", kong=\",kong)\\n        self.name = name\\n        self.kong = kong\\n    \\n    def __str__(self):\\n        return \"name=\" + self.name + \", kong = \" + self.kong\\nbi = biubiu(\\'jack\\', kong=\"koe\")\\nai = biubiu(\\'zkk\\', kong=\"loi\")\\nprint(bi)\\nprint(ai, bi==ai)',\n",
       " '_i28': 'def singleton(cls, *args, **kargs):\\n    instens = {}\\n    def _single(*args, **kargs):\\n        if cls not in instens:\\n            instens[cls] = cls(*args, **kargs)\\n            print(\"args\",args,\" kargs:\",kargs)\\n        #else:\\n        #    instens[cls] = cls(*args, **kargs)\\n        return instens[cls]\\n    return _single\\n\\n@singleton\\nclass biubiu:\\n    def __init__(self,name,kong=\"kongkong\"):\\n        print(\"create biubiu,name is :\",name,\", kong=\",kong)\\n        self.name = name\\n        self.kong = kong\\n    \\n    def __str__(self):\\n        return \"name=\" + self.name + \", kong = \" + self.kong\\nbi = biubiu(\\'jack\\', kong=\"koe\")\\nai = biubiu(\\'zkk\\', kong=\"loi\")\\nprint(bi)\\nprint(ai, bi==ai)',\n",
       " '_i29': 'def singleton(cls, *args, **kargs):\\n    instens = {}\\n    def _single(*args, **kargs):\\n        if cls not in instens:\\n            #instens[cls] = cls(*args, **kargs)\\n            print(\"args\",args,\" kargs:\",kargs)\\n        #else:\\n        #    instens[cls] = cls(*args, **kargs)\\n        return \"haha you are wrong\"\\n    return _single\\n\\n@singleton\\nclass biubiu:\\n    def __init__(self,name,kong=\"kongkong\"):\\n        print(\"create biubiu,name is :\",name,\", kong=\",kong)\\n        self.name = name\\n        self.kong = kong\\n    \\n    def __str__(self):\\n        return \"name=\" + self.name + \", kong = \" + self.kong\\nbi = biubiu(\\'jack\\', kong=\"koe\")\\nai = biubiu(\\'zkk\\', kong=\"loi\")\\nprint(bi)\\nprint(ai, bi==ai)',\n",
       " '_i3': 'True and True or False',\n",
       " '_i30': 'def singleton(cls, *args, **kargs):\\n    instens = {}\\n    def _single(*args, **kargs):\\n        if cls not in instens:\\n            instens[cls] = cls(*args, **kargs)\\n            print(\"args\",args,\" kargs:\",kargs)\\n        #else:\\n        #    instens[cls] = cls(*args, **kargs)\\n        return instens[cls]\\n    return _single\\n\\ndef selfcor(*args):\\n    print(\"haha yes\")\\n\\n@selfcor\\ndef fuc():\\n    print(\"don\\'t take a chance!\")\\n    \\n@singleton\\nclass biubiu:\\n    def __init__(self,name,kong=\"kongkong\"):\\n        print(\"create biubiu,name is :\",name,\", kong=\",kong)\\n        self.name = name\\n        self.kong = kong\\n    \\n    def __str__(self):\\n        return \"name=\" + self.name + \", kong = \" + self.kong\\n\\nbi = biubiu(\\'jack\\', kong=\"koe\")\\nai = biubiu(\\'zkk\\', kong=\"loi\")\\nprint(bi)\\nprint(ai, bi==ai)\\n\\nfuc()',\n",
       " '_i31': 'def singleton(cls, *args, **kargs):\\n    instens = {}\\n    def _single(*args, **kargs):\\n        if cls not in instens:\\n            instens[cls] = cls(*args, **kargs)\\n            print(\"args\",args,\" kargs:\",kargs)\\n        #else:\\n        #    instens[cls] = cls(*args, **kargs)\\n        return instens[cls]\\n    return _single\\n\\ndef selfcor(*args):\\n    return print(\"haha yes\")\\n\\n@selfcor\\ndef fuc():\\n    print(\"don\\'t take a chance!\")\\n    \\n@singleton\\nclass biubiu:\\n    def __init__(self,name,kong=\"kongkong\"):\\n        print(\"create biubiu,name is :\",name,\", kong=\",kong)\\n        self.name = name\\n        self.kong = kong\\n    \\n    def __str__(self):\\n        return \"name=\" + self.name + \", kong = \" + self.kong\\n\\nbi = biubiu(\\'jack\\', kong=\"koe\")\\nai = biubiu(\\'zkk\\', kong=\"loi\")\\nprint(bi)\\nprint(ai, bi==ai)\\n\\nfuc()',\n",
       " '_i32': 'def singleton(cls, *args, **kargs):\\n    instens = {}\\n    def _single(*args, **kargs):\\n        if cls not in instens:\\n            instens[cls] = cls(*args, **kargs)\\n            print(\"args\",args,\" kargs:\",kargs)\\n        #else:\\n        #    instens[cls] = cls(*args, **kargs)\\n        return instens[cls]\\n    return _single\\n\\ndef selfcor(*args):\\n    return print\\n\\n@selfcor\\ndef fuc():\\n    print(\"don\\'t take a chance!\")\\n    \\n@singleton\\nclass biubiu:\\n    def __init__(self,name,kong=\"kongkong\"):\\n        print(\"create biubiu,name is :\",name,\", kong=\",kong)\\n        self.name = name\\n        self.kong = kong\\n    \\n    def __str__(self):\\n        return \"name=\" + self.name + \", kong = \" + self.kong\\n\\nbi = biubiu(\\'jack\\', kong=\"koe\")\\nai = biubiu(\\'zkk\\', kong=\"loi\")\\nprint(bi)\\nprint(ai, bi==ai)\\n\\nfuc()',\n",
       " '_i33': 'def singleton(cls, *args, **kargs):\\n    instens = {}\\n    def _single(*args, **kargs):\\n        if cls not in instens:\\n            instens[cls] = cls(*args, **kargs)\\n            print(\"args\",args,\" kargs:\",kargs)\\n        #else:\\n        #    instens[cls] = cls(*args, **kargs)\\n        return instens[cls]\\n    return _single\\n\\ndef selfcor(*args):\\n    return print\\n\\n@selfcor\\ndef fuc(a):\\n    print(\"don\\'t take a chance!\")\\n    \\n@singleton\\nclass biubiu:\\n    def __init__(self,name,kong=\"kongkong\"):\\n        print(\"create biubiu,name is :\",name,\", kong=\",kong)\\n        self.name = name\\n        self.kong = kong\\n    \\n    def __str__(self):\\n        return \"name=\" + self.name + \", kong = \" + self.kong\\n\\nbi = biubiu(\\'jack\\', kong=\"koe\")\\nai = biubiu(\\'zkk\\', kong=\"loi\")\\nprint(bi)\\nprint(ai, bi==ai)\\n\\nfuc(\\'df\\')',\n",
       " '_i34': 'def singleton(cls, *args, **kargs):\\n    instens = {}\\n    def _single(*args, **kargs):\\n        if cls not in instens:\\n            instens[cls] = cls(*args, **kargs)\\n            print(\"args\",args,\" kargs:\",kargs)\\n        #else:\\n        #    instens[cls] = cls(*args, **kargs)\\n        return instens[cls]\\n    return _single\\n\\ndef selfcor(fuc, *args):\\n    return fuc\\n\\n@selfcor\\ndef fuc(a):\\n    print(\"don\\'t take a chance!\")\\n    \\n@singleton\\nclass biubiu:\\n    def __init__(self,name,kong=\"kongkong\"):\\n        print(\"create biubiu,name is :\",name,\", kong=\",kong)\\n        self.name = name\\n        self.kong = kong\\n    \\n    def __str__(self):\\n        return \"name=\" + self.name + \", kong = \" + self.kong\\n\\nbi = biubiu(\\'jack\\', kong=\"koe\")\\nai = biubiu(\\'zkk\\', kong=\"loi\")\\nprint(bi)\\nprint(ai, bi==ai)\\n\\nfuc(\\'df\\')',\n",
       " '_i35': 'import copy\\na = [1,2]\\nb = [3,4]\\nc = [a,b]\\nd = c[:]\\nprint(d)\\na[1] = 3\\nprint(d)',\n",
       " '_i36': 'import copy\\na = [1,2]\\nb = [3,4]\\nc = [a,b]\\nd = list(c)\\nprint(d)\\na[1] = 3\\nprint(d)',\n",
       " '_i37': 'import copy\\na = [1,2]\\nb = [3,4]\\nc = [a,b]\\nd = copy.deepcopy(c)\\nprint(d)\\na[1] = 3\\nprint(d)',\n",
       " '_i38': 'import copy\\na = [1,2]\\nb = [3,4]\\nc = [a,b]\\ne = [c]\\nd = copy.deepcopy(e)\\nprint(d)\\na[1] = 3\\nprint(d)',\n",
       " '_i39': 'import copy\\na = [1,2]\\nb = [3,4]\\nc = [a,b]\\nd = copy.deepcopy(c)\\nprint(d)\\na[1] = 3\\nprint(d)',\n",
       " '_i4': 'True and False or False',\n",
       " '_i40': 'import copy\\na = [1,2]\\nb = [3,4]\\nc = [a,b]\\nd = copy.deepcopy(c)\\nprint(d)\\na[1] = 3\\nprint(d)\\n\\nclass forcopy:\\n    def __init__(self, a):\\n        self.a = a\\n\\nclass copythis:\\n    def __init__(self.b):\\n        self.b = b\\n\\na = forcopy(\"ass\")\\nb = copythis(a)\\n\\nc = copy.deepcopy(b)\\n\\nprint(c == b)\\nprint(c.b == b.b)',\n",
       " '_i41': 'import copy\\na = [1,2]\\nb = [3,4]\\nc = [a,b]\\nd = copy.deepcopy(c)\\nprint(d)\\na[1] = 3\\nprint(d)\\n\\nclass forcopy:\\n    def __init__(self, a):\\n        self.a = a\\n\\nclass copythis:\\n    def __init__(self,b):\\n        self.b = b\\n\\na = forcopy(\"ass\")\\nb = copythis(a)\\n\\nc = copy.deepcopy(b)\\n\\nprint(c == b)\\nprint(c.b == b.b)',\n",
       " '_i42': 'import copy\\na = [1,2]\\nb = [3,4]\\nc = [a,b]\\nd = copy.deepcopy(c)\\nprint(d)\\na[1] = 3\\nprint(d)\\n\\nclass forcopy:\\n    def __init__(self, a):\\n        self.a = a\\n\\nclass copythis:\\n    def __init__(self,b):\\n        self.b = b\\n\\na = forcopy(\"ass\")\\nb = copythis(a)\\n\\nc = copy.deepcopy(b)\\n\\nprint(c == b)\\nprint(c.b.a, b.b,a)',\n",
       " '_i43': 'import copy\\na = [1,2]\\nb = [3,4]\\nc = [a,b]\\nd = copy.deepcopy(c)\\nprint(d)\\na[1] = 3\\nprint(d)\\n\\nclass forcopy:\\n    def __init__(self, a):\\n        self.a = a\\n\\nclass copythis:\\n    def __init__(self,b):\\n        self.b = b\\n\\na = forcopy(\"ass\")\\nb = copythis(a)\\n\\nc = copy.deepcopy(b)\\n\\nprint(c == b)\\nprint(c.b.a, b.b.a)',\n",
       " '_i44': 'import copy\\na = [1,2]\\nb = [3,4]\\nc = [a,b]\\nd = copy.deepcopy(c)\\nprint(d)\\na[1] = 3\\nprint(d)\\n\\nclass forcopy:\\n    def __init__(self, a):\\n        self.a = a\\n        print(\"create a\")\\n\\nclass copythis:\\n    def __init__(self,b):\\n        self.b = b\\n\\na = forcopy(\"ass\")\\nb = copythis(a)\\n\\nc = copy.deepcopy(b)\\n\\nprint(c == b)\\nprint(c.b.a, b.b.a)',\n",
       " '_i45': 'import copy\\na = [1,2]\\nb = [3,4]\\nc = [a,b]\\nd = copy.deepcopy(c)\\nprint(d)\\na[1] = 3\\nprint(d)\\n\\nclass forcopy:\\n    def __init__(self, a):\\n        self.a = a\\n\\nclass copythis:\\n    def __init__(self,b):\\n        self.b = b\\n\\na = forcopy(\"ass\")\\nb = copythis(a)\\n\\nc = copy.deepcopy(b)\\n\\nprint(c == b)\\na.a = \"keo\"\\nprint(c.b.a, b.b.a)',\n",
       " '_i46': \"def simple_decorator(decorator):\\n    '''This decorator can be used to turn simple functions\\n    into well-behaved decorators, so long as the decorators\\n    are fairly simple. If a decorator expects a function and\\n    returns a function (no descriptors), and if it doesn't\\n    modify function attributes or docstring, then it is\\n    eligible to use this. Simply apply @simple_decorator to\\n    your decorator and it will automatically preserve the\\n    docstring and function attributes of functions to which\\n    it is applied.'''\\n    def new_decorator(f):\\n        g = decorator(f)\\n        g.__name__ = f.__name__\\n        g.__doc__ = f.__doc__\\n        g.__dict__.update(f.__dict__)\\n        return g\\n    # Now a few lines needed to make simple_decorator itself\\n    # be a well-behaved decorator.\\n    new_decorator.__name__ = decorator.__name__\\n    new_decorator.__doc__ = decorator.__doc__\\n    new_decorator.__dict__.update(decorator.__dict__)\\n    return new_decorator\\n\\n#\\n# Sample Use:\\n#\\n@simple_decorator\\ndef my_simple_logging_decorator(func):\\n    def you_will_never_see_this_name(*args, **kwargs):\\n        print 'calling {}'.format(func.__name__)\\n        return func(*args, **kwargs)\\n    return you_will_never_see_this_name\\n\\n@my_simple_logging_decorator\\ndef double(x):\\n    'Doubles a number.'\\n    return 2 * x\\n\\nassert double.__name__ == 'double'\\nassert double.__doc__ == 'Doubles a number.'\\nprint double(155)\",\n",
       " '_i47': \"def simple_decorator(decorator):\\n    '''This decorator can be used to turn simple functions\\n    into well-behaved decorators, so long as the decorators\\n    are fairly simple. If a decorator expects a function and\\n    returns a function (no descriptors), and if it doesn't\\n    modify function attributes or docstring, then it is\\n    eligible to use this. Simply apply @simple_decorator to\\n    your decorator and it will automatically preserve the\\n    docstring and function attributes of functions to which\\n    it is applied.'''\\n    def new_decorator(f):\\n        g = decorator(f)\\n        g.__name__ = f.__name__\\n        g.__doc__ = f.__doc__\\n        g.__dict__.update(f.__dict__)\\n        return g\\n    # Now a few lines needed to make simple_decorator itself\\n    # be a well-behaved decorator.\\n    new_decorator.__name__ = decorator.__name__\\n    new_decorator.__doc__ = decorator.__doc__\\n    new_decorator.__dict__.update(decorator.__dict__)\\n    return new_decorator\\n\\n#\\n# Sample Use:\\n#\\n@simple_decorator\\ndef my_simple_logging_decorator(func):\\n    def you_will_never_see_this_name(*args, **kwargs):\\n        print ('calling {}'.format(func.__name__))\\n        return func(*args, **kwargs)\\n    return you_will_never_see_this_name\\n\\n@my_simple_logging_decorator\\ndef double(x):\\n    'Doubles a number.'\\n    return 2 * x\\n\\nassert double.__name__ == 'double'\\nassert double.__doc__ == 'Doubles a number.'\\nprint double(155)\",\n",
       " '_i48': \"def simple_decorator(decorator):\\n    '''This decorator can be used to turn simple functions\\n    into well-behaved decorators, so long as the decorators\\n    are fairly simple. If a decorator expects a function and\\n    returns a function (no descriptors), and if it doesn't\\n    modify function attributes or docstring, then it is\\n    eligible to use this. Simply apply @simple_decorator to\\n    your decorator and it will automatically preserve the\\n    docstring and function attributes of functions to which\\n    it is applied.'''\\n    def new_decorator(f):\\n        g = decorator(f)\\n        g.__name__ = f.__name__\\n        g.__doc__ = f.__doc__\\n        g.__dict__.update(f.__dict__)\\n        return g\\n    # Now a few lines needed to make simple_decorator itself\\n    # be a well-behaved decorator.\\n    new_decorator.__name__ = decorator.__name__\\n    new_decorator.__doc__ = decorator.__doc__\\n    new_decorator.__dict__.update(decorator.__dict__)\\n    return new_decorator\\n\\n#\\n# Sample Use:\\n#\\n@simple_decorator\\ndef my_simple_logging_decorator(func):\\n    def you_will_never_see_this_name(*args, **kwargs):\\n        print ('calling {}'.format(func.__name__))\\n        return func(*args, **kwargs)\\n    return you_will_never_see_this_name\\n\\n@my_simple_logging_decorator\\ndef double(x):\\n    'Doubles a number.'\\n    return 2 * x\\n\\nassert double.__name__ == 'double'\\nassert double.__doc__ == 'Doubles a number.'\\nprint (double(155))\",\n",
       " '_i49': 'def func():\\n    \\'increadiable\\'\\n    print(\"hehe only print?\")\\nfunc()',\n",
       " '_i5': 'True and False or True',\n",
       " '_i50': 'def func():\\n    \\'increadiable\\'\\n    print(\"hehe only print?\")\\nfunc()\\nprint(func.__doc__)',\n",
       " '_i51': 'def func():\\n    \\'increadiable\\'\\n    \\'but no end\\'\\n    print(\"hehe only print?\")\\nfunc()\\nprint(func.__doc__)',\n",
       " '_i52': 'def func():\\n    \\'increadiable\\'\\\\\\n    \\'but no end\\'\\n    print(\"hehe only print?\")\\nfunc()\\nprint(func.__doc__)',\n",
       " '_i53': 'def func():\\n    \\'increadiable\\'\\n    \\'but no end\\'\\n    print(\"hehe only print?\")\\nfunc()\\nprint(func.__doc__)\\nprint(func.__repr__)',\n",
       " '_i54': 'def func():\\n    \\'increadiable\\'\\n    \\'but no end\\'\\n    print(\"hehe only print?\")\\nfunc()\\nprint(func.__doc__)\\nprint(func.__repr__())',\n",
       " '_i55': 'def func():\\n    \\'increadiable\\'\\n    \\'but no end\\'\\n    print(\"hehe only print?\")\\nfunc()\\nprint(func.__doc__)\\nprint(func.ascii())',\n",
       " '_i56': 'def func():\\n    \\'increadiable\\'\\n    \\'but no end\\'\\n    print(\"hehe only print?\")\\nfunc()\\nprint(func.__doc__)\\n\\nclass gogo:\\n    def __init__(self, name):\\n        self.name = name\\n        print(\"gogo\" + name)\\n\\ngo1 = gogo(\"mym\")\\ndelattr(go1, name)',\n",
       " '_i57': 'def func():\\n    \\'increadiable\\'\\n    \\'but no end\\'\\n    print(\"hehe only print?\")\\nfunc()\\nprint(func.__doc__)\\n\\nclass gogo:\\n    def __init__(self, name):\\n        self.name = name\\n        print(\"gogo\" + name)\\n\\ngo1 = gogo(\"mym\")\\ndelattr(go1, \\'name\\')',\n",
       " '_i58': 'def func():\\n    \\'increadiable\\'\\n    \\'but no end\\'\\n    print(\"hehe only print?\")\\nfunc()\\nprint(func.__doc__)\\n\\nclass gogo:\\n    def __init__(self, name):\\n        self.name = name\\n        print(\"gogo \" + name)\\n\\ngo1 = gogo(\"mym\")\\ndelattr(go1, \\'name\\')\\ndel go1.name',\n",
       " '_i59': 'def func():\\n    \\'increadiable\\'\\n    \\'but no end\\'\\n    print(\"hehe only print?\")\\nfunc()\\nprint(func.__doc__)\\n\\nclass gogo:\\n    def __init__(self, name):\\n        self.name = name\\n        print(\"gogo \" + name)\\n\\ngo1 = gogo(\"mym\")\\ndel go1.name\\ndelattr(go1, \\'name\\')',\n",
       " '_i6': 'True and 1 or True',\n",
       " '_i60': 'def func():\\n    \\'increadiable\\'\\n    \\'but no end\\'\\n    print(\"hehe only print?\")\\nfunc()\\nprint(func.__doc__)\\n\\nclass gogo:\\n    def __init__(self, name):\\n        self.name = name\\n        print(\"gogo \" + name)\\n\\ngo1 = gogo(\"mym\")\\ndel go1.name\\n#delattr(go1, \\'name\\')',\n",
       " '_i61': 'divmod(1,4)',\n",
       " '_i62': 'divmod(11,4)',\n",
       " '_i63': 'divmod(11.3,4)',\n",
       " '_i64': 'type(divmod(11.3,4)[1])',\n",
       " '_i65': 'divmod(11.3,4)[1]',\n",
       " '_i66': 'print(locals())',\n",
       " '_i67': 'print(globals())',\n",
       " '_i68': \"print(eval('_i65 + _i65'))\",\n",
       " '_i69': \"print(eval('globels(_i65)'))\",\n",
       " '_i7': 'def fn(self, name):\\n    print(\"my name is :\", name)\\n\\nprnam = type(\\'prt\\', (object,), dict(\\'hello\\'=fn))\\nprnam.hello(\"god\")',\n",
       " '_i70': \"print(eval('globel(_i65)'))\",\n",
       " '_i71': \"print(eval('locale(_i65)'))\",\n",
       " '_i72': \"print(eval('locale()[_i65]'))\",\n",
       " '_i73': \"print(eval('locale'))\",\n",
       " '_i74': \"print(eval('_i65'))\",\n",
       " '_i75': \"print(eval('_i65'))\\nglobels()\",\n",
       " '_i76': \"print(eval('_i65'))\\nglobals()\",\n",
       " '_i77': \"print(eval('_i65'))\\nglobals()\\nlocale()\",\n",
       " '_i78': \"print(eval('_i65'))\\nglobals()\\nlocals()\",\n",
       " '_i8': 'def fn(self, name):\\n    print(\"my name is :\", name)\\n\\nprnam = type(\\'prt\\', (object,), dict(helle=fn))\\nprnam.hello(\"god\")',\n",
       " '_i9': 'def fn(self, name):\\n    print(\"my name is :\", name)\\n\\nprnam = type(\\'prt\\', (object,), dict(hello=fn))\\nprnam.hello(\"god\")',\n",
       " '_ih': ['',\n",
       "  'import threading as td\\nfrom time import ctime, sleep\\n\\ndef makemoney(name):\\n    sleep(1)\\n\\n    global money\\n    global mademoney\\n    while True:\\n        if mademoney >= 2000:\\n            print(\"commision complete, bye!\")\\n            cond.acquire()\\n            cond.wait()\\n            cond.release()\\n            break\\n        else:\\n            if money < 700:\\n                if money > 100:\\n                    cond.acquire()\\n                    cond.notify()\\n                    cond.release()\\n                sleep(0.2)\\n                money+=100\\n                mademoney += 100\\n                print(\"{} make 100 money, resave:{} yuan, already spent:{}\".format(name, money, spentmoney))\\n                cond.acquire()\\n                cond.notify()\\n                cond.release()\\n            else:\\n                cond.acquire()\\n                print(\"wait to make money ...\")\\n                cond.wait()\\n                cond.release()\\n\\ndef spendmoney(name):\\n\\n    global money\\n    global spentmoney\\n\\n    while True:\\n        if spentmoney >= 2000:\\n            print(\"spend money is happy! bye!\")\\n            cond.acquire()\\n            cond.notify()\\n            cond.release()\\n            break\\n        else:\\n            if money < 100:\\n                print(\"wait money to spend ...\")\\n                cond.acquire()\\n                cond.notify()\\n                cond.wait()\\n                cond.release()\\n            else:\\n                if money < 700:\\n                    cond.acquire()\\n                    cond.notify()\\n                    cond.release()\\n                sleep(0.5)\\n                money -= 100\\n                spentmoney += 100\\n                print(\"{} spend 100 money, resave:{} yuan, already spent:{}\".format(name, money, spentmoney))       \\n                \\n    \\n\\n    \\nmine = td.Thread(target=makemoney,args=(\"me,me!\",))\\nmygf = td.Thread(target=spendmoney,args=(\"lao,po!\",))\\n\\nmoney=0\\nspentmoney=0\\nmademoney=0\\ncond = td.Condition()\\nmine.start()\\nmygf.start()\\nmine.join()\\nmygf.join()\\n\\nprint(\"all great!bye!\")',\n",
       "  'import threading as td\\nfrom time import ctime, sleep\\n\\ndef makemoney(name):\\n    sleep(1)\\n\\n    global money\\n    global mademoney\\n    while True:\\n        if mademoney >= 2000:\\n            print(\"commision complete, bye!\")\\n            cond.acquire()\\n            cond.wait()\\n            cond.release()\\n            break\\n        else:\\n            if money < 700:\\n                if money > 100:\\n                    cond.acquire()\\n                    cond.notify()\\n                    cond.release()\\n                sleep(0.2)\\n                money+=100\\n                mademoney += 100\\n                print(\"{} make 100 money, resave:{} yuan, already spent:{},time:{}\".format(name, money, spentmoney,ctime()))\\n                cond.acquire()\\n                cond.notify()\\n                cond.release()\\n            else:\\n                cond.acquire()\\n                print(\"wait to make money ...\")\\n                cond.wait()\\n                cond.release()\\n\\ndef spendmoney(name):\\n\\n    global money\\n    global spentmoney\\n\\n    while True:\\n        if spentmoney >= 2000:\\n            print(\"spend money is happy! bye!\")\\n            cond.acquire()\\n            cond.notify()\\n            cond.release()\\n            break\\n        else:\\n            if money < 100:\\n                print(\"wait money to spend ...\")\\n                cond.acquire()\\n                cond.notify()\\n                cond.wait()\\n                cond.release()\\n            else:\\n                if money < 700:\\n                    cond.acquire()\\n                    cond.notify()\\n                    cond.release()\\n                sleep(0.3)\\n                money -= 100\\n                spentmoney += 100\\n                print(\"{} spend 100 money, resave:{} yuan, already spent:{}:time:{}\".format(name, money, spentmoney,ctime()))       \\n                \\n    \\n\\n    \\nmine = td.Thread(target=makemoney,args=(\"me,me!\",))\\nmygf = td.Thread(target=spendmoney,args=(\"lao,po!\",))\\n\\nmoney=0\\nspentmoney=0\\nmademoney=0\\ncond = td.Condition()\\nmine.start()\\nmygf.start()\\nmine.join()\\nmygf.join()\\n\\nprint(\"all great!bye!\")',\n",
       "  'True and True or False',\n",
       "  'True and False or False',\n",
       "  'True and False or True',\n",
       "  'True and 1 or True',\n",
       "  'def fn(self, name):\\n    print(\"my name is :\", name)\\n\\nprnam = type(\\'prt\\', (object,), dict(\\'hello\\'=fn))\\nprnam.hello(\"god\")',\n",
       "  'def fn(self, name):\\n    print(\"my name is :\", name)\\n\\nprnam = type(\\'prt\\', (object,), dict(helle=fn))\\nprnam.hello(\"god\")',\n",
       "  'def fn(self, name):\\n    print(\"my name is :\", name)\\n\\nprnam = type(\\'prt\\', (object,), dict(hello=fn))\\nprnam.hello(\"god\")',\n",
       "  'def fn(self, name):\\n    print(\"my name is :\", name)\\n\\nprnam = type(\\'prt\\', (object,), dict(hello=fn))\\nprnam.hello(prnam,\"god\")',\n",
       "  'def fn(self, name):\\n    print(\"my name is :\", name)\\n\\nprnam = type(\\'prt\\', (object,), dict(hello=fn))\\nprnam.hello(object,\"god\")',\n",
       "  'def fn(self, name):\\n    print(\"my name is :\", name)\\n\\nprnam = type(\\'prt\\', (object,), dict(hello=fn))\\npr = prnam()\\npr.hello(\"god\")',\n",
       "  'def fn(self, name):\\n    print(\"my name is :\", name)\\n\\nprnam = type(\\'prt\\', (object,), dict(hello=fn))\\npr = prnam()\\npr.hello(\"god\")\\n\\nclass gogo:\\n    def jik(self, name):\\n        print(\"gogo\" + name)\\ngogo.jik(gogo,\"bkbkb\")',\n",
       "  'def singleton(cls, *args, **kargs):\\n    instens = []\\n    def _single():\\n        if cls not in instens:\\n            instens[cls] = cls(*args, **kargs)\\n        return instens[cls]\\n    return _single\\n\\n@singleton\\nclass biubiu:\\n    def __init__(self):\\n        print(\"create biubiu\")\\n        \\nbi = biubiu()',\n",
       "  'def singleton(cls, *args, **kargs):\\n    instens = {}\\n    def _single():\\n        if cls not in instens:\\n            instens[cls] = cls(*args, **kargs)\\n        return instens[cls]\\n    return _single\\n\\n@singleton\\nclass biubiu:\\n    def __init__(self):\\n        print(\"create biubiu\")\\n        \\nbi = biubiu()',\n",
       "  'def singleton(cls, *args, **kargs):\\n    instens = {}\\n    def _single():\\n        if cls not in instens:\\n            instens[cls] = cls(*args, **kargs)\\n            print(\"args\",args,\" kargs:\",kargs)\\n        return instens[cls]\\n    return _single\\n\\n@singleton\\nclass biubiu:\\n    def __init__(self):\\n        print(\"create biubiu\")\\n        \\nbi = biubiu()',\n",
       "  'def singleton(cls, *args, **kargs):\\n    instens = {}\\n    def _single():\\n        if cls not in instens:\\n            instens[cls] = cls(*args, **kargs)\\n            print(\"args\",args,\" kargs:\",kargs)\\n        return instens[cls]\\n    return _single\\n\\n@singleton\\nclass biubiu:\\n    def __init__(self,name):\\n        print(\"create biubiu,name is :\",name)\\n        \\nbi = biubiu(\\'jack\\')',\n",
       "  'def singleton(cls, *args, **kargs):\\n    instens = {}\\n    def _single(*args, **kargs):\\n        if cls not in instens:\\n            instens[cls] = cls(*args, **kargs)\\n            print(\"args\",args,\" kargs:\",kargs)\\n        return instens[cls]\\n    return _single\\n\\n@singleton\\nclass biubiu:\\n    def __init__(self,name):\\n        print(\"create biubiu,name is :\",name)\\n        \\nbi = biubiu(\\'jack\\')',\n",
       "  'def singleton(cls, *args, **kargs):\\n    instens = {}\\n    def _single(*args, **kargs):\\n        if cls not in instens:\\n            instens[cls] = cls(*args, **kargs)\\n            print(\"args\",args,\" kargs:\",kargs)\\n        return instens[cls]\\n    return _single\\n\\n@singleton\\nclass biubiu:\\n    def __init__(self,name,kong=\"kongkong\"):\\n        print(\"create biubiu,name is :\",name,\"kong=\",kong)\\n        \\nbi = biubiu(\\'jack\\')',\n",
       "  'def singleton(cls, *args, **kargs):\\n    instens = {}\\n    def _single(*args, **kargs):\\n        if cls not in instens:\\n            instens[cls] = cls(*args, **kargs)\\n            print(\"args\",args,\" kargs:\",kargs)\\n        return instens[cls]\\n    return _single\\n\\n@singleton\\nclass biubiu:\\n    def __init__(self,name,kong=\"kongkong\"):\\n        print(\"create biubiu,name is :\",name,\", kong=\",kong)\\n        \\nbi = biubiu(\\'jack\\')',\n",
       "  'def singleton(cls, *args, **kargs):\\n    instens = {}\\n    def _single(*args, **kargs):\\n        if cls not in instens:\\n            instens[cls] = cls(*args, **kargs)\\n            print(\"args\",args,\" kargs:\",kargs)\\n        return instens[cls]\\n    return _single\\n\\n@singleton\\nclass biubiu:\\n    def __init__(self,name,kong=\"kongkong\"):\\n        print(\"create biubiu,name is :\",name,\", kong=\",kong)\\n        \\nbi = biubiu(\\'jack\\', kong=\"koe\")',\n",
       "  'def singleton(cls, *args, **kargs):\\n    instens = {}\\n    def _single(*args, **kargs):\\n        if cls not in instens:\\n            instens[cls] = cls(*args, **kargs)\\n            print(\"args\",args,\" kargs:\",kargs)\\n        return instens[cls]\\n    return _single\\n\\n@singleton\\nclass biubiu:\\n    def __init__(self,name,kong=\"kongkong\"):\\n        print(\"create biubiu,name is :\",name,\", kong=\",kong)\\n        self.name = name\\n        self.kong = kong\\n    \\n    def __str__(self):\\n        return \"name=\" + name + \", kong = \" + kong\\nbi = biubiu(\\'jack\\', kong=\"koe\")\\nai = biubiu(\\'jack\\', kong=\"koe\")\\nprint()',\n",
       "  'def singleton(cls, *args, **kargs):\\n    instens = {}\\n    def _single(*args, **kargs):\\n        if cls not in instens:\\n            instens[cls] = cls(*args, **kargs)\\n            print(\"args\",args,\" kargs:\",kargs)\\n        return instens[cls]\\n    return _single\\n\\n@singleton\\nclass biubiu:\\n    def __init__(self,name,kong=\"kongkong\"):\\n        print(\"create biubiu,name is :\",name,\", kong=\",kong)\\n        self.name = name\\n        self.kong = kong\\n    \\n    def __str__(self):\\n        return \"name=\" + name + \", kong = \" + kong\\nbi = biubiu(\\'jack\\', kong=\"koe\")\\nai = biubiu(\\'jack\\', kong=\"koe\")\\nprint(bi)\\nprint(ai)',\n",
       "  'def singleton(cls, *args, **kargs):\\n    instens = {}\\n    def _single(*args, **kargs):\\n        if cls not in instens:\\n            instens[cls] = cls(*args, **kargs)\\n            print(\"args\",args,\" kargs:\",kargs)\\n        return instens[cls]\\n    return _single\\n\\n@singleton\\nclass biubiu:\\n    def __init__(self,name,kong=\"kongkong\"):\\n        print(\"create biubiu,name is :\",name,\", kong=\",kong)\\n        self.name = name\\n        self.kong = kong\\n    \\n    def __str__(self):\\n        return \"name=\" + self.name + \", kong = \" + self.kong\\nbi = biubiu(\\'jack\\', kong=\"koe\")\\nai = biubiu(\\'jack\\', kong=\"koe\")\\nprint(bi)\\nprint(ai)',\n",
       "  'def singleton(cls, *args, **kargs):\\n    instens = {}\\n    def _single(*args, **kargs):\\n        if cls not in instens:\\n            instens[cls] = cls(*args, **kargs)\\n            print(\"args\",args,\" kargs:\",kargs)\\n        return instens[cls]\\n    return _single\\n\\n@singleton\\nclass biubiu:\\n    def __init__(self,name,kong=\"kongkong\"):\\n        print(\"create biubiu,name is :\",name,\", kong=\",kong)\\n        self.name = name\\n        self.kong = kong\\n    \\n    def __str__(self):\\n        return \"name=\" + self.name + \", kong = \" + self.kong\\nbi = biubiu(\\'jack\\', kong=\"koe\")\\nai = biubiu(\\'zkk\\', kong=\"loi\")\\nprint(bi)\\nprint(ai)',\n",
       "  'def singleton(cls, *args, **kargs):\\n    instens = {}\\n    def _single(*args, **kargs):\\n        if cls not in instens:\\n            instens[cls] = cls(*args, **kargs)\\n            print(\"args\",args,\" kargs:\",kargs)\\n        else:\\n            instens[cls] = cls(*args, **kargs)\\n        return instens[cls]\\n    return _single\\n\\n@singleton\\nclass biubiu:\\n    def __init__(self,name,kong=\"kongkong\"):\\n        print(\"create biubiu,name is :\",name,\", kong=\",kong)\\n        self.name = name\\n        self.kong = kong\\n    \\n    def __str__(self):\\n        return \"name=\" + self.name + \", kong = \" + self.kong\\nbi = biubiu(\\'jack\\', kong=\"koe\")\\nai = biubiu(\\'zkk\\', kong=\"loi\")\\nprint(bi)\\nprint(ai)',\n",
       "  'def singleton(cls, *args, **kargs):\\n    instens = {}\\n    def _single(*args, **kargs):\\n        if cls not in instens:\\n            instens[cls] = cls(*args, **kargs)\\n            print(\"args\",args,\" kargs:\",kargs)\\n        else:\\n            instens[cls] = cls(*args, **kargs)\\n        return instens[cls]\\n    return _single\\n\\n@singleton\\nclass biubiu:\\n    def __init__(self,name,kong=\"kongkong\"):\\n        print(\"create biubiu,name is :\",name,\", kong=\",kong)\\n        self.name = name\\n        self.kong = kong\\n    \\n    def __str__(self):\\n        return \"name=\" + self.name + \", kong = \" + self.kong\\nbi = biubiu(\\'jack\\', kong=\"koe\")\\nai = biubiu(\\'zkk\\', kong=\"loi\")\\nprint(bi)\\nprint(ai, bi==ai)',\n",
       "  'def singleton(cls, *args, **kargs):\\n    instens = {}\\n    def _single(*args, **kargs):\\n        if cls not in instens:\\n            instens[cls] = cls(*args, **kargs)\\n            print(\"args\",args,\" kargs:\",kargs)\\n        #else:\\n        #    instens[cls] = cls(*args, **kargs)\\n        return instens[cls]\\n    return _single\\n\\n@singleton\\nclass biubiu:\\n    def __init__(self,name,kong=\"kongkong\"):\\n        print(\"create biubiu,name is :\",name,\", kong=\",kong)\\n        self.name = name\\n        self.kong = kong\\n    \\n    def __str__(self):\\n        return \"name=\" + self.name + \", kong = \" + self.kong\\nbi = biubiu(\\'jack\\', kong=\"koe\")\\nai = biubiu(\\'zkk\\', kong=\"loi\")\\nprint(bi)\\nprint(ai, bi==ai)',\n",
       "  'def singleton(cls, *args, **kargs):\\n    instens = {}\\n    def _single(*args, **kargs):\\n        if cls not in instens:\\n            #instens[cls] = cls(*args, **kargs)\\n            print(\"args\",args,\" kargs:\",kargs)\\n        #else:\\n        #    instens[cls] = cls(*args, **kargs)\\n        return \"haha you are wrong\"\\n    return _single\\n\\n@singleton\\nclass biubiu:\\n    def __init__(self,name,kong=\"kongkong\"):\\n        print(\"create biubiu,name is :\",name,\", kong=\",kong)\\n        self.name = name\\n        self.kong = kong\\n    \\n    def __str__(self):\\n        return \"name=\" + self.name + \", kong = \" + self.kong\\nbi = biubiu(\\'jack\\', kong=\"koe\")\\nai = biubiu(\\'zkk\\', kong=\"loi\")\\nprint(bi)\\nprint(ai, bi==ai)',\n",
       "  'def singleton(cls, *args, **kargs):\\n    instens = {}\\n    def _single(*args, **kargs):\\n        if cls not in instens:\\n            instens[cls] = cls(*args, **kargs)\\n            print(\"args\",args,\" kargs:\",kargs)\\n        #else:\\n        #    instens[cls] = cls(*args, **kargs)\\n        return instens[cls]\\n    return _single\\n\\ndef selfcor(*args):\\n    print(\"haha yes\")\\n\\n@selfcor\\ndef fuc():\\n    print(\"don\\'t take a chance!\")\\n    \\n@singleton\\nclass biubiu:\\n    def __init__(self,name,kong=\"kongkong\"):\\n        print(\"create biubiu,name is :\",name,\", kong=\",kong)\\n        self.name = name\\n        self.kong = kong\\n    \\n    def __str__(self):\\n        return \"name=\" + self.name + \", kong = \" + self.kong\\n\\nbi = biubiu(\\'jack\\', kong=\"koe\")\\nai = biubiu(\\'zkk\\', kong=\"loi\")\\nprint(bi)\\nprint(ai, bi==ai)\\n\\nfuc()',\n",
       "  'def singleton(cls, *args, **kargs):\\n    instens = {}\\n    def _single(*args, **kargs):\\n        if cls not in instens:\\n            instens[cls] = cls(*args, **kargs)\\n            print(\"args\",args,\" kargs:\",kargs)\\n        #else:\\n        #    instens[cls] = cls(*args, **kargs)\\n        return instens[cls]\\n    return _single\\n\\ndef selfcor(*args):\\n    return print(\"haha yes\")\\n\\n@selfcor\\ndef fuc():\\n    print(\"don\\'t take a chance!\")\\n    \\n@singleton\\nclass biubiu:\\n    def __init__(self,name,kong=\"kongkong\"):\\n        print(\"create biubiu,name is :\",name,\", kong=\",kong)\\n        self.name = name\\n        self.kong = kong\\n    \\n    def __str__(self):\\n        return \"name=\" + self.name + \", kong = \" + self.kong\\n\\nbi = biubiu(\\'jack\\', kong=\"koe\")\\nai = biubiu(\\'zkk\\', kong=\"loi\")\\nprint(bi)\\nprint(ai, bi==ai)\\n\\nfuc()',\n",
       "  'def singleton(cls, *args, **kargs):\\n    instens = {}\\n    def _single(*args, **kargs):\\n        if cls not in instens:\\n            instens[cls] = cls(*args, **kargs)\\n            print(\"args\",args,\" kargs:\",kargs)\\n        #else:\\n        #    instens[cls] = cls(*args, **kargs)\\n        return instens[cls]\\n    return _single\\n\\ndef selfcor(*args):\\n    return print\\n\\n@selfcor\\ndef fuc():\\n    print(\"don\\'t take a chance!\")\\n    \\n@singleton\\nclass biubiu:\\n    def __init__(self,name,kong=\"kongkong\"):\\n        print(\"create biubiu,name is :\",name,\", kong=\",kong)\\n        self.name = name\\n        self.kong = kong\\n    \\n    def __str__(self):\\n        return \"name=\" + self.name + \", kong = \" + self.kong\\n\\nbi = biubiu(\\'jack\\', kong=\"koe\")\\nai = biubiu(\\'zkk\\', kong=\"loi\")\\nprint(bi)\\nprint(ai, bi==ai)\\n\\nfuc()',\n",
       "  'def singleton(cls, *args, **kargs):\\n    instens = {}\\n    def _single(*args, **kargs):\\n        if cls not in instens:\\n            instens[cls] = cls(*args, **kargs)\\n            print(\"args\",args,\" kargs:\",kargs)\\n        #else:\\n        #    instens[cls] = cls(*args, **kargs)\\n        return instens[cls]\\n    return _single\\n\\ndef selfcor(*args):\\n    return print\\n\\n@selfcor\\ndef fuc(a):\\n    print(\"don\\'t take a chance!\")\\n    \\n@singleton\\nclass biubiu:\\n    def __init__(self,name,kong=\"kongkong\"):\\n        print(\"create biubiu,name is :\",name,\", kong=\",kong)\\n        self.name = name\\n        self.kong = kong\\n    \\n    def __str__(self):\\n        return \"name=\" + self.name + \", kong = \" + self.kong\\n\\nbi = biubiu(\\'jack\\', kong=\"koe\")\\nai = biubiu(\\'zkk\\', kong=\"loi\")\\nprint(bi)\\nprint(ai, bi==ai)\\n\\nfuc(\\'df\\')',\n",
       "  'def singleton(cls, *args, **kargs):\\n    instens = {}\\n    def _single(*args, **kargs):\\n        if cls not in instens:\\n            instens[cls] = cls(*args, **kargs)\\n            print(\"args\",args,\" kargs:\",kargs)\\n        #else:\\n        #    instens[cls] = cls(*args, **kargs)\\n        return instens[cls]\\n    return _single\\n\\ndef selfcor(fuc, *args):\\n    return fuc\\n\\n@selfcor\\ndef fuc(a):\\n    print(\"don\\'t take a chance!\")\\n    \\n@singleton\\nclass biubiu:\\n    def __init__(self,name,kong=\"kongkong\"):\\n        print(\"create biubiu,name is :\",name,\", kong=\",kong)\\n        self.name = name\\n        self.kong = kong\\n    \\n    def __str__(self):\\n        return \"name=\" + self.name + \", kong = \" + self.kong\\n\\nbi = biubiu(\\'jack\\', kong=\"koe\")\\nai = biubiu(\\'zkk\\', kong=\"loi\")\\nprint(bi)\\nprint(ai, bi==ai)\\n\\nfuc(\\'df\\')',\n",
       "  'import copy\\na = [1,2]\\nb = [3,4]\\nc = [a,b]\\nd = c[:]\\nprint(d)\\na[1] = 3\\nprint(d)',\n",
       "  'import copy\\na = [1,2]\\nb = [3,4]\\nc = [a,b]\\nd = list(c)\\nprint(d)\\na[1] = 3\\nprint(d)',\n",
       "  'import copy\\na = [1,2]\\nb = [3,4]\\nc = [a,b]\\nd = copy.deepcopy(c)\\nprint(d)\\na[1] = 3\\nprint(d)',\n",
       "  'import copy\\na = [1,2]\\nb = [3,4]\\nc = [a,b]\\ne = [c]\\nd = copy.deepcopy(e)\\nprint(d)\\na[1] = 3\\nprint(d)',\n",
       "  'import copy\\na = [1,2]\\nb = [3,4]\\nc = [a,b]\\nd = copy.deepcopy(c)\\nprint(d)\\na[1] = 3\\nprint(d)',\n",
       "  'import copy\\na = [1,2]\\nb = [3,4]\\nc = [a,b]\\nd = copy.deepcopy(c)\\nprint(d)\\na[1] = 3\\nprint(d)\\n\\nclass forcopy:\\n    def __init__(self, a):\\n        self.a = a\\n\\nclass copythis:\\n    def __init__(self.b):\\n        self.b = b\\n\\na = forcopy(\"ass\")\\nb = copythis(a)\\n\\nc = copy.deepcopy(b)\\n\\nprint(c == b)\\nprint(c.b == b.b)',\n",
       "  'import copy\\na = [1,2]\\nb = [3,4]\\nc = [a,b]\\nd = copy.deepcopy(c)\\nprint(d)\\na[1] = 3\\nprint(d)\\n\\nclass forcopy:\\n    def __init__(self, a):\\n        self.a = a\\n\\nclass copythis:\\n    def __init__(self,b):\\n        self.b = b\\n\\na = forcopy(\"ass\")\\nb = copythis(a)\\n\\nc = copy.deepcopy(b)\\n\\nprint(c == b)\\nprint(c.b == b.b)',\n",
       "  'import copy\\na = [1,2]\\nb = [3,4]\\nc = [a,b]\\nd = copy.deepcopy(c)\\nprint(d)\\na[1] = 3\\nprint(d)\\n\\nclass forcopy:\\n    def __init__(self, a):\\n        self.a = a\\n\\nclass copythis:\\n    def __init__(self,b):\\n        self.b = b\\n\\na = forcopy(\"ass\")\\nb = copythis(a)\\n\\nc = copy.deepcopy(b)\\n\\nprint(c == b)\\nprint(c.b.a, b.b,a)',\n",
       "  'import copy\\na = [1,2]\\nb = [3,4]\\nc = [a,b]\\nd = copy.deepcopy(c)\\nprint(d)\\na[1] = 3\\nprint(d)\\n\\nclass forcopy:\\n    def __init__(self, a):\\n        self.a = a\\n\\nclass copythis:\\n    def __init__(self,b):\\n        self.b = b\\n\\na = forcopy(\"ass\")\\nb = copythis(a)\\n\\nc = copy.deepcopy(b)\\n\\nprint(c == b)\\nprint(c.b.a, b.b.a)',\n",
       "  'import copy\\na = [1,2]\\nb = [3,4]\\nc = [a,b]\\nd = copy.deepcopy(c)\\nprint(d)\\na[1] = 3\\nprint(d)\\n\\nclass forcopy:\\n    def __init__(self, a):\\n        self.a = a\\n        print(\"create a\")\\n\\nclass copythis:\\n    def __init__(self,b):\\n        self.b = b\\n\\na = forcopy(\"ass\")\\nb = copythis(a)\\n\\nc = copy.deepcopy(b)\\n\\nprint(c == b)\\nprint(c.b.a, b.b.a)',\n",
       "  'import copy\\na = [1,2]\\nb = [3,4]\\nc = [a,b]\\nd = copy.deepcopy(c)\\nprint(d)\\na[1] = 3\\nprint(d)\\n\\nclass forcopy:\\n    def __init__(self, a):\\n        self.a = a\\n\\nclass copythis:\\n    def __init__(self,b):\\n        self.b = b\\n\\na = forcopy(\"ass\")\\nb = copythis(a)\\n\\nc = copy.deepcopy(b)\\n\\nprint(c == b)\\na.a = \"keo\"\\nprint(c.b.a, b.b.a)',\n",
       "  \"def simple_decorator(decorator):\\n    '''This decorator can be used to turn simple functions\\n    into well-behaved decorators, so long as the decorators\\n    are fairly simple. If a decorator expects a function and\\n    returns a function (no descriptors), and if it doesn't\\n    modify function attributes or docstring, then it is\\n    eligible to use this. Simply apply @simple_decorator to\\n    your decorator and it will automatically preserve the\\n    docstring and function attributes of functions to which\\n    it is applied.'''\\n    def new_decorator(f):\\n        g = decorator(f)\\n        g.__name__ = f.__name__\\n        g.__doc__ = f.__doc__\\n        g.__dict__.update(f.__dict__)\\n        return g\\n    # Now a few lines needed to make simple_decorator itself\\n    # be a well-behaved decorator.\\n    new_decorator.__name__ = decorator.__name__\\n    new_decorator.__doc__ = decorator.__doc__\\n    new_decorator.__dict__.update(decorator.__dict__)\\n    return new_decorator\\n\\n#\\n# Sample Use:\\n#\\n@simple_decorator\\ndef my_simple_logging_decorator(func):\\n    def you_will_never_see_this_name(*args, **kwargs):\\n        print 'calling {}'.format(func.__name__)\\n        return func(*args, **kwargs)\\n    return you_will_never_see_this_name\\n\\n@my_simple_logging_decorator\\ndef double(x):\\n    'Doubles a number.'\\n    return 2 * x\\n\\nassert double.__name__ == 'double'\\nassert double.__doc__ == 'Doubles a number.'\\nprint double(155)\",\n",
       "  \"def simple_decorator(decorator):\\n    '''This decorator can be used to turn simple functions\\n    into well-behaved decorators, so long as the decorators\\n    are fairly simple. If a decorator expects a function and\\n    returns a function (no descriptors), and if it doesn't\\n    modify function attributes or docstring, then it is\\n    eligible to use this. Simply apply @simple_decorator to\\n    your decorator and it will automatically preserve the\\n    docstring and function attributes of functions to which\\n    it is applied.'''\\n    def new_decorator(f):\\n        g = decorator(f)\\n        g.__name__ = f.__name__\\n        g.__doc__ = f.__doc__\\n        g.__dict__.update(f.__dict__)\\n        return g\\n    # Now a few lines needed to make simple_decorator itself\\n    # be a well-behaved decorator.\\n    new_decorator.__name__ = decorator.__name__\\n    new_decorator.__doc__ = decorator.__doc__\\n    new_decorator.__dict__.update(decorator.__dict__)\\n    return new_decorator\\n\\n#\\n# Sample Use:\\n#\\n@simple_decorator\\ndef my_simple_logging_decorator(func):\\n    def you_will_never_see_this_name(*args, **kwargs):\\n        print ('calling {}'.format(func.__name__))\\n        return func(*args, **kwargs)\\n    return you_will_never_see_this_name\\n\\n@my_simple_logging_decorator\\ndef double(x):\\n    'Doubles a number.'\\n    return 2 * x\\n\\nassert double.__name__ == 'double'\\nassert double.__doc__ == 'Doubles a number.'\\nprint double(155)\",\n",
       "  \"def simple_decorator(decorator):\\n    '''This decorator can be used to turn simple functions\\n    into well-behaved decorators, so long as the decorators\\n    are fairly simple. If a decorator expects a function and\\n    returns a function (no descriptors), and if it doesn't\\n    modify function attributes or docstring, then it is\\n    eligible to use this. Simply apply @simple_decorator to\\n    your decorator and it will automatically preserve the\\n    docstring and function attributes of functions to which\\n    it is applied.'''\\n    def new_decorator(f):\\n        g = decorator(f)\\n        g.__name__ = f.__name__\\n        g.__doc__ = f.__doc__\\n        g.__dict__.update(f.__dict__)\\n        return g\\n    # Now a few lines needed to make simple_decorator itself\\n    # be a well-behaved decorator.\\n    new_decorator.__name__ = decorator.__name__\\n    new_decorator.__doc__ = decorator.__doc__\\n    new_decorator.__dict__.update(decorator.__dict__)\\n    return new_decorator\\n\\n#\\n# Sample Use:\\n#\\n@simple_decorator\\ndef my_simple_logging_decorator(func):\\n    def you_will_never_see_this_name(*args, **kwargs):\\n        print ('calling {}'.format(func.__name__))\\n        return func(*args, **kwargs)\\n    return you_will_never_see_this_name\\n\\n@my_simple_logging_decorator\\ndef double(x):\\n    'Doubles a number.'\\n    return 2 * x\\n\\nassert double.__name__ == 'double'\\nassert double.__doc__ == 'Doubles a number.'\\nprint (double(155))\",\n",
       "  'def func():\\n    \\'increadiable\\'\\n    print(\"hehe only print?\")\\nfunc()',\n",
       "  'def func():\\n    \\'increadiable\\'\\n    print(\"hehe only print?\")\\nfunc()\\nprint(func.__doc__)',\n",
       "  'def func():\\n    \\'increadiable\\'\\n    \\'but no end\\'\\n    print(\"hehe only print?\")\\nfunc()\\nprint(func.__doc__)',\n",
       "  'def func():\\n    \\'increadiable\\'    \\'but no end\\'\\n    print(\"hehe only print?\")\\nfunc()\\nprint(func.__doc__)',\n",
       "  'def func():\\n    \\'increadiable\\'\\n    \\'but no end\\'\\n    print(\"hehe only print?\")\\nfunc()\\nprint(func.__doc__)\\nprint(func.__repr__)',\n",
       "  'def func():\\n    \\'increadiable\\'\\n    \\'but no end\\'\\n    print(\"hehe only print?\")\\nfunc()\\nprint(func.__doc__)\\nprint(func.__repr__())',\n",
       "  'def func():\\n    \\'increadiable\\'\\n    \\'but no end\\'\\n    print(\"hehe only print?\")\\nfunc()\\nprint(func.__doc__)\\nprint(func.ascii())',\n",
       "  'def func():\\n    \\'increadiable\\'\\n    \\'but no end\\'\\n    print(\"hehe only print?\")\\nfunc()\\nprint(func.__doc__)\\n\\nclass gogo:\\n    def __init__(self, name):\\n        self.name = name\\n        print(\"gogo\" + name)\\n\\ngo1 = gogo(\"mym\")\\ndelattr(go1, name)',\n",
       "  'def func():\\n    \\'increadiable\\'\\n    \\'but no end\\'\\n    print(\"hehe only print?\")\\nfunc()\\nprint(func.__doc__)\\n\\nclass gogo:\\n    def __init__(self, name):\\n        self.name = name\\n        print(\"gogo\" + name)\\n\\ngo1 = gogo(\"mym\")\\ndelattr(go1, \\'name\\')',\n",
       "  'def func():\\n    \\'increadiable\\'\\n    \\'but no end\\'\\n    print(\"hehe only print?\")\\nfunc()\\nprint(func.__doc__)\\n\\nclass gogo:\\n    def __init__(self, name):\\n        self.name = name\\n        print(\"gogo \" + name)\\n\\ngo1 = gogo(\"mym\")\\ndelattr(go1, \\'name\\')\\ndel go1.name',\n",
       "  'def func():\\n    \\'increadiable\\'\\n    \\'but no end\\'\\n    print(\"hehe only print?\")\\nfunc()\\nprint(func.__doc__)\\n\\nclass gogo:\\n    def __init__(self, name):\\n        self.name = name\\n        print(\"gogo \" + name)\\n\\ngo1 = gogo(\"mym\")\\ndel go1.name\\ndelattr(go1, \\'name\\')',\n",
       "  'def func():\\n    \\'increadiable\\'\\n    \\'but no end\\'\\n    print(\"hehe only print?\")\\nfunc()\\nprint(func.__doc__)\\n\\nclass gogo:\\n    def __init__(self, name):\\n        self.name = name\\n        print(\"gogo \" + name)\\n\\ngo1 = gogo(\"mym\")\\ndel go1.name\\n#delattr(go1, \\'name\\')',\n",
       "  'divmod(1,4)',\n",
       "  'divmod(11,4)',\n",
       "  'divmod(11.3,4)',\n",
       "  'type(divmod(11.3,4)[1])',\n",
       "  'divmod(11.3,4)[1]',\n",
       "  'print(locals())',\n",
       "  'print(globals())',\n",
       "  \"print(eval('_i65 + _i65'))\",\n",
       "  \"print(eval('globels(_i65)'))\",\n",
       "  \"print(eval('globel(_i65)'))\",\n",
       "  \"print(eval('locale(_i65)'))\",\n",
       "  \"print(eval('locale()[_i65]'))\",\n",
       "  \"print(eval('locale'))\",\n",
       "  \"print(eval('_i65'))\",\n",
       "  \"print(eval('_i65'))\\nglobels()\",\n",
       "  \"print(eval('_i65'))\\nglobals()\",\n",
       "  \"print(eval('_i65'))\\nglobals()\\nlocale()\",\n",
       "  \"print(eval('_i65'))\\nglobals()\\nlocals()\"],\n",
       " '_ii': \"print(eval('_i65'))\\nglobals()\",\n",
       " '_iii': \"print(eval('_i65'))\\nglobels()\",\n",
       " '_oh': {3: True,\n",
       "  4: False,\n",
       "  5: True,\n",
       "  6: 1,\n",
       "  61: (0, 1),\n",
       "  62: (2, 3),\n",
       "  63: (2.0, 3.3000000000000007),\n",
       "  64: float,\n",
       "  65: 3.3000000000000007,\n",
       "  76: {...}},\n",
       " '_sh': <module 'IPython.core.shadowns' from 'C:\\\\Users\\\\Administrator\\\\AppData\\\\Local\\\\Programs\\\\Python\\\\Python36\\\\lib\\\\site-packages\\\\IPython\\\\core\\\\shadowns.py'>,\n",
       " 'a': <__main__.forcopy at 0x7fb729aac8>,\n",
       " 'ai': <__main__.biubiu at 0x7fb727fcf8>,\n",
       " 'b': <__main__.copythis at 0x7fb729a8d0>,\n",
       " 'bi': <__main__.biubiu at 0x7fb727fcf8>,\n",
       " 'biubiu': <function __main__.singleton.<locals>._single>,\n",
       " 'c': <__main__.copythis at 0x7fb729a7f0>,\n",
       " 'cond': <Condition(<unlocked _thread.RLock object owner=0 count=0 at 0x0000007FB8466918>, 0)>,\n",
       " 'copy': <module 'copy' from 'C:\\\\Users\\\\Administrator\\\\AppData\\\\Local\\\\Programs\\\\Python\\\\Python36\\\\lib\\\\copy.py'>,\n",
       " 'copythis': __main__.copythis,\n",
       " 'ctime': <function time.ctime>,\n",
       " 'd': [[1, 2], [3, 4]],\n",
       " 'double': <function __main__.my_simple_logging_decorator.<locals>.you_will_never_see_this_name>,\n",
       " 'e': [[[1, 3], [3, 4]]],\n",
       " 'exit': <IPython.core.autocall.ZMQExitAutocall at 0x7fb7b8f240>,\n",
       " 'fn': <function __main__.fn>,\n",
       " 'forcopy': __main__.forcopy,\n",
       " 'fuc': <function __main__.fuc>,\n",
       " 'func': <function __main__.func>,\n",
       " 'get_ipython': <bound method InteractiveShell.get_ipython of <ipykernel.zmqshell.ZMQInteractiveShell object at 0x0000007FB6D9FF98>>,\n",
       " 'go1': <__main__.gogo at 0x7fb727eb38>,\n",
       " 'gogo': __main__.gogo,\n",
       " 'mademoney': 2000,\n",
       " 'makemoney': <function __main__.makemoney>,\n",
       " 'mine': <Thread(Thread-8, stopped 19760)>,\n",
       " 'money': 0,\n",
       " 'my_simple_logging_decorator': <function __main__.simple_decorator.<locals>.new_decorator>,\n",
       " 'mygf': <Thread(Thread-9, stopped 792)>,\n",
       " 'pr': <__main__.prt at 0x7fb7244f28>,\n",
       " 'prnam': __main__.prt,\n",
       " 'quit': <IPython.core.autocall.ZMQExitAutocall at 0x7fb7b8f240>,\n",
       " 'selfcor': <function __main__.selfcor>,\n",
       " 'simple_decorator': <function __main__.simple_decorator>,\n",
       " 'singleton': <function __main__.singleton>,\n",
       " 'sleep': <function time.sleep>,\n",
       " 'spendmoney': <function __main__.spendmoney>,\n",
       " 'spentmoney': 2000,\n",
       " 'td': <module 'threading' from 'C:\\\\Users\\\\Administrator\\\\AppData\\\\Local\\\\Programs\\\\Python\\\\Python36\\\\lib\\\\threading.py'>}"
      ]
     },
     "execution_count": 78,
     "metadata": {},
     "output_type": "execute_result"
    }
   ],
   "source": [
    "print(eval('_i65'))\n",
    "globals()\n",
    "locals()"
   ]
  },
  {
   "cell_type": "code",
   "execution_count": 82,
   "metadata": {},
   "outputs": [
    {
     "name": "stdout",
     "output_type": "stream",
     "text": [
      "iter time: 0\n",
      "iter time: 1\n",
      "iter time: 2\n",
      "iter time: 3\n",
      "iter time: 4\n"
     ]
    }
   ],
   "source": [
    "#use of exec\n",
    "exec (\"\"\"for i in range(5):\n",
    "...  print (\"iter time: %d\" % i)\n",
    "...\"\"\")"
   ]
  },
  {
   "cell_type": "code",
   "execution_count": 84,
   "metadata": {},
   "outputs": [
    {
     "data": {
      "text/plain": [
       "[4, 5]"
      ]
     },
     "execution_count": 84,
     "metadata": {},
     "output_type": "execute_result"
    }
   ],
   "source": [
    "# use of filter\n",
    "list(filter(lambda x:x>3,[1,2,3,4,5]))"
   ]
  },
  {
   "cell_type": "code",
   "execution_count": 92,
   "metadata": {},
   "outputs": [
    {
     "name": "stdout",
     "output_type": "stream",
     "text": [
      "gogo sata\n",
      "sata\n",
      "gogo sata\n"
     ]
    },
    {
     "data": {
      "text/plain": [
       "(2012963040, 2012963040)"
      ]
     },
     "execution_count": 92,
     "metadata": {},
     "output_type": "execute_result"
    }
   ],
   "source": [
    "go1 = gogo(\"sata\")\n",
    "# use getattr\n",
    "print(getattr(go1, 'name','didi'))\n",
    "\n",
    "go2 = gogo(\"sata\")\n",
    "# use hash usually jugg a dict\n",
    "hash(go1),hash(go2)\n"
   ]
  },
  {
   "cell_type": "code",
   "execution_count": 25,
   "metadata": {},
   "outputs": [
    {
     "name": "stdout",
     "output_type": "stream",
     "text": [
      "2012963040 2012963040 2012481984\n",
      "0x143 0b1000011100100 0o173 83\n",
      "num:0o13,14,12\n"
     ]
    }
   ],
   "source": [
    "print(id(1),id(1),id(dict))\n",
    "#the changes !!!\n",
    "print(hex(323),bin(4324),oct(123),0o123)\n",
    "print(\"num:{},{},{}\".format(f'{11:#o}',format(12,'o'),f'{10:o}'))\n"
   ]
  },
  {
   "cell_type": "code",
   "execution_count": 97,
   "metadata": {},
   "outputs": [
    {
     "name": "stdout",
     "output_type": "stream",
     "text": [
      "input somethin to me !slskldfjlke\n"
     ]
    },
    {
     "data": {
      "text/plain": [
       "'slskldfjlke'"
      ]
     },
     "execution_count": 97,
     "metadata": {},
     "output_type": "execute_result"
    }
   ],
   "source": [
    "input(\"input somethin to me !\")"
   ]
  },
  {
   "cell_type": "code",
   "execution_count": 111,
   "metadata": {},
   "outputs": [
    {
     "name": "stdout",
     "output_type": "stream",
     "text": [
      "bytearray(b'\\x04\\x00\\x00')\n",
      "b'\\x00\\x00\\x00'\n",
      "a 97\n"
     ]
    }
   ],
   "source": [
    "a = bytearray(3)\n",
    "a[0] = 4\n",
    "print(a)\n",
    "print(bytes(3))\n",
    "print(chr(97),ord('a'))"
   ]
  },
  {
   "cell_type": "code",
   "execution_count": 113,
   "metadata": {},
   "outputs": [
    {
     "data": {
      "text/plain": [
       "(1+4j)"
      ]
     },
     "execution_count": 113,
     "metadata": {},
     "output_type": "execute_result"
    }
   ],
   "source": [
    "#complex\n",
    "complex('1+4j')"
   ]
  },
  {
   "cell_type": "code",
   "execution_count": 3,
   "metadata": {},
   "outputs": [
    {
     "name": "stdout",
     "output_type": "stream",
     "text": [
      "1\n",
      "2\n",
      "3\n",
      "4\n",
      "5\n",
      "a\n",
      "b\n"
     ]
    }
   ],
   "source": [
    "fary = [1,2,3,4,5]\n",
    "for i in iter(fary):\n",
    "    print(i)\n",
    "\n",
    "class loopit:\n",
    "    def __init__(self, *args):\n",
    "        self.vals = list(args)\n",
    "        self.index = 0\n",
    "        \n",
    "    def next(self):\n",
    "        if self.index < len(self.vals):\n",
    "            theval = self.vals[self.index]\n",
    "            self.index += 1\n",
    "            return theval\n",
    "        else:\n",
    "            raise StopIteration\n",
    "\n",
    "oneloop = loopit('a','b','c')\n",
    "# if the func return c, the loop would break\n",
    "for i in iter(oneloop.next,'c'):\n",
    "    print(i)"
   ]
  },
  {
   "cell_type": "code",
   "execution_count": 10,
   "metadata": {},
   "outputs": [
    {
     "data": {
      "text/plain": [
       "<memory at 0x0000002B47F80AC8>"
      ]
     },
     "execution_count": 10,
     "metadata": {},
     "output_type": "execute_result"
    }
   ],
   "source": [
    "memoryview(bytes(3))\n",
    "#must bytes like "
   ]
  },
  {
   "cell_type": "code",
   "execution_count": 40,
   "metadata": {},
   "outputs": [
    {
     "name": "stdout",
     "output_type": "stream",
     "text": [
      "Help on forprot in module __main__ object:\n",
      "\n",
      "class forprot(builtins.object)\n",
      " |  dsf\n",
      " |  \n",
      " |  Methods defined here:\n",
      " |  \n",
      " |  delx(self, x)\n",
      " |  \n",
      " |  getx(self)\n",
      " |  \n",
      " |  setx(self, x)\n",
      " |  \n",
      " |  ----------------------------------------------------------------------\n",
      " |  Data descriptors defined here:\n",
      " |  \n",
      " |  __dict__\n",
      " |      dictionary for instance variables (if defined)\n",
      " |  \n",
      " |  __weakref__\n",
      " |      list of weak references to the object (if defined)\n",
      " |  \n",
      " |  xs\n",
      "\n",
      "3 None\n"
     ]
    }
   ],
   "source": [
    "class forprot:\n",
    "    'dsf'\n",
    "    def getx(self):\n",
    "        return self._x\n",
    "    def setx(self,x):\n",
    "        self._x = x\n",
    "    def delx(self,x):\n",
    "        del self._x\n",
    "\n",
    "    xs = None\n",
    "    xs = property(getx, setx, delx)\n",
    "\n",
    "fo = forprot()\n",
    "fo.xs = 3\n",
    "print(fo.xs,help(fo))"
   ]
  },
  {
   "cell_type": "code",
   "execution_count": 54,
   "metadata": {},
   "outputs": [
    {
     "data": {
      "text/plain": [
       "0.6234"
      ]
     },
     "execution_count": 54,
     "metadata": {},
     "output_type": "execute_result"
    }
   ],
   "source": [
    "#use of round\n",
    "round(0.6234234,4)"
   ]
  },
  {
   "cell_type": "code",
   "execution_count": 57,
   "metadata": {},
   "outputs": [
    {
     "ename": "TypeError",
     "evalue": "vars() argument must have __dict__ attribute",
     "output_type": "error",
     "traceback": [
      "\u001b[0;31m---------------------------------------------------------------------------\u001b[0m",
      "\u001b[0;31mTypeError\u001b[0m                                 Traceback (most recent call last)",
      "\u001b[0;32m<ipython-input-57-65663f02d923>\u001b[0m in \u001b[0;36m<module>\u001b[0;34m()\u001b[0m\n\u001b[0;32m----> 1\u001b[0;31m \u001b[0mvars\u001b[0m\u001b[0;34m(\u001b[0m\u001b[0;34m{\u001b[0m\u001b[0;34m'd'\u001b[0m\u001b[0;34m:\u001b[0m\u001b[0;36m4\u001b[0m\u001b[0;34m,\u001b[0m\u001b[0;34m'b'\u001b[0m\u001b[0;34m:\u001b[0m\u001b[0;36m6\u001b[0m\u001b[0;34m}\u001b[0m\u001b[0;34m)\u001b[0m\u001b[0;34m\u001b[0m\u001b[0m\n\u001b[0m",
      "\u001b[0;31mTypeError\u001b[0m: vars() argument must have __dict__ attribute"
     ]
    }
   ],
   "source": [
    "vars({'d':4,'b':6})"
   ]
  },
  {
   "cell_type": "code",
   "execution_count": 58,
   "metadata": {},
   "outputs": [
    {
     "name": "stdout",
     "output_type": "stream",
     "text": [
      "[1, 2, 3, 4, 'b', 'n']\n"
     ]
    }
   ],
   "source": [
    "a=[1,2,3,4]\n",
    "b={'b':4,'n':6}\n",
    "a.extend(b)\n",
    "print(a)"
   ]
  },
  {
   "cell_type": "code",
   "execution_count": 2,
   "metadata": {},
   "outputs": [
    {
     "data": {
      "text/plain": [
       "{'x': (-1, 1), 'y': (-1, 1)}"
      ]
     },
     "execution_count": 2,
     "metadata": {},
     "output_type": "execute_result"
    }
   ],
   "source": [
    "dict1={}.fromkeys(('x','y'),4)\n",
    "dict1"
   ]
  },
  {
   "cell_type": "code",
   "execution_count": null,
   "metadata": {},
   "outputs": [],
   "source": []
  }
 ],
 "metadata": {
  "kernelspec": {
   "display_name": "Python 3",
   "language": "python",
   "name": "python3"
  },
  "language_info": {
   "codemirror_mode": {
    "name": "ipython",
    "version": 3
   },
   "file_extension": ".py",
   "mimetype": "text/x-python",
   "name": "python",
   "nbconvert_exporter": "python",
   "pygments_lexer": "ipython3",
   "version": "3.6.3"
  }
 },
 "nbformat": 4,
 "nbformat_minor": 1
}

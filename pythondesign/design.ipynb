{
 "cells": [
  {
   "cell_type": "code",
   "execution_count": null,
   "metadata": {},
   "outputs": [],
   "source": [
    "#就是有一个父类，多个子类，一个工厂类决定创建那个子类,一个工厂类，搭配一个子类，这样"
   ]
  },
  {
   "cell_type": "code",
   "execution_count": 44,
   "metadata": {},
   "outputs": [
    {
     "name": "stdout",
     "output_type": "stream",
     "text": [
      "Hello Mr.Chetan\n",
      "Chetan M M\n"
     ]
    }
   ],
   "source": [
    "class Person:\n",
    "    def __init__(self,name):\n",
    "        self.name = name\n",
    "        self.gender = None\n",
    "\n",
    "    def getName(self):\n",
    "        return self.name\n",
    "\n",
    "    def getGender(self):\n",
    "        return self.gender\n",
    "\n",
    "class Male(Person):\n",
    "    def __init__(self, name):\n",
    "        #Person.__init__(self,name)\n",
    "        super().__init__(name)\n",
    "        #super(Person, self).__init__()\n",
    "        self.gender = 'M'\n",
    "        print (\"Hello Mr.\" + name)\n",
    "\n",
    "class Female(Person):\n",
    "    def __init__(self, name):\n",
    "        self.name = name\n",
    "        self.gender = 'F'\n",
    "        print (\"Hello Miss.\" + name)\n",
    "\n",
    "class MaleFactory():\n",
    "    def createMale(self, name):\n",
    "        return Male(name)\n",
    "\n",
    "class FemaleFactory():\n",
    "    def createFemale(self, name):\n",
    "        return Female(name)\n",
    "\n",
    "\n",
    "if __name__ == '__main__':\n",
    "    factory = MaleFactory()\n",
    "    person = factory.createMale(\"Chetan\")\n",
    "    print(person.name, person.gender, person.getGender())"
   ]
  },
  {
   "cell_type": "code",
   "execution_count": null,
   "metadata": {},
   "outputs": [],
   "source": [
    "# 创建器模型"
   ]
  },
  {
   "cell_type": "code",
   "execution_count": 45,
   "metadata": {},
   "outputs": [
    {
     "name": "stdout",
     "output_type": "stream",
     "text": [
      "Floor: One | Size: Big\n",
      "Floor: More than One | Size: Small\n"
     ]
    }
   ],
   "source": [
    "\"\"\"\n",
    "    Builder\n",
    "\"\"\"\n",
    " \n",
    "# Director\n",
    "class Director(object):\n",
    "    def __init__(self):\n",
    "        self.builder = None\n",
    " \n",
    "    def construct_building(self):\n",
    "        self.builder.new_building()\n",
    "        self.builder.build_floor()\n",
    "        self.builder.build_size()\n",
    " \n",
    "    def get_building(self):\n",
    "        return self.builder.building\n",
    " \n",
    " \n",
    "# Abstract Builder\n",
    "class Builder(object):\n",
    "    def __init__(self):\n",
    "        self.building = None\n",
    " \n",
    "    def new_building(self):\n",
    "        self.building = Building()\n",
    " \n",
    " \n",
    "# Concrete Builder\n",
    "class BuilderHouse(Builder):\n",
    "    def build_floor(self):\n",
    "        self.building.floor = 'One'\n",
    " \n",
    "    def build_size(self):\n",
    "        self.building.size = 'Big'\n",
    " \n",
    " \n",
    "class BuilderFlat(Builder):\n",
    "    def build_floor(self):\n",
    "        self.building.floor = 'More than One'\n",
    " \n",
    "    def build_size(self):\n",
    "        self.building.size = 'Small'\n",
    " \n",
    " \n",
    "# Product\n",
    "class Building(object):\n",
    "    def __init__(self):\n",
    "        self.floor = None\n",
    "        self.size = None\n",
    " \n",
    "    def __repr__(self):\n",
    "        return 'Floor: %s | Size: %s' % (self.floor, self.size)\n",
    " \n",
    " \n",
    "# Client\n",
    "if __name__ == \"__main__\":\n",
    "    director = Director()#同样的指挥者，指挥了创建的步骤\n",
    "    director.builder = BuilderHouse()#由于创建者工艺的不一样\n",
    "    director.construct_building()#创建的过程是相同的\n",
    "    building = director.get_building()#创建的结果不一样\n",
    "    print(building)\n",
    "    director.builder = BuilderFlat()\n",
    "    director.construct_building()\n",
    "    building = director.get_building()\n",
    "    print(building)"
   ]
  },
  {
   "cell_type": "code",
   "execution_count": null,
   "metadata": {},
   "outputs": [],
   "source": []
  }
 ],
 "metadata": {
  "kernelspec": {
   "display_name": "Python 3",
   "language": "python",
   "name": "python3"
  },
  "language_info": {
   "codemirror_mode": {
    "name": "ipython",
    "version": 3
   },
   "file_extension": ".py",
   "mimetype": "text/x-python",
   "name": "python",
   "nbconvert_exporter": "python",
   "pygments_lexer": "ipython3",
   "version": "3.6.3"
  }
 },
 "nbformat": 4,
 "nbformat_minor": 1
}
